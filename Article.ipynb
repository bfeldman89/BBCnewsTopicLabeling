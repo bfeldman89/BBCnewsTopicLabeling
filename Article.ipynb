{
 "cells": [
  {
   "cell_type": "markdown",
   "metadata": {},
   "source": [
    "# BBC news Topic Labeling using LDA"
   ]
  },
  {
   "cell_type": "markdown",
   "metadata": {},
   "source": [
    "We are going to discuss here Latent Dirichlet Allocation and apply it on the BBC news articles dataset. The first part of article consist of a mathematical concepts that stands behind the method, explaining how it works. In the second part we will show how LDA perform in practice. Finally we will visualise some of our results."
   ]
  },
  {
   "cell_type": "markdown",
   "metadata": {},
   "source": [
    "## Introduction"
   ]
  },
  {
   "cell_type": "markdown",
   "metadata": {},
   "source": [
    "Problem that we would like to talk about here is to find the best segregation of documents according to their topics. This kind of separation can be used for assigning a topic to a document (which is called topic labeling) or for general determination of compressed characteristics of a huge text data set.\n",
    "\n",
    "Latent Dirichlet Allocation (LDA) is an unsupervised machine learning method that is a state-of-the-art approach for this kind of problems. It is based on straightforward mathematical probabilistic concept of bayesian inference, but despite its tough theory in the end it is pretty simple to use. There are various possible application of LDA: for finding questions on stack overflow that are similar to each other, news flow aggregation and analysis or any document categorization that is based on a group of structured text data. First time it was used in biology on multilocus genotype for population inference."
   ]
  },
  {
   "cell_type": "markdown",
   "metadata": {},
   "source": [
    "## 1. LDA - model description\n",
    "\n",
    " <h3 style=\"text-align: right\"><i>\n",
    "\"No human investigation can be called real science<br> if it cannot be demonstrated mathematically. </i></h3><p style=\"text-align: right\"> (Leonardo da Vinci) </p>"
   ]
  },
  {
   "cell_type": "markdown",
   "metadata": {},
   "source": [
    "Latent Dirichlet Allocation is a generative probability model that is constructed along bayes Inference. It provides distribution of outputs and inputs based on latent variables, whereas the only observed values (grayed out in the graph below) are words. This approach requires only few assumptions to be made. One of them is the number of topics $K$ we want to distinguish. The others are $\\alpha$ and $\\beta$ which we will mention later.\n",
    "\n",
    "LDA has its pythonic implementation in `sklearn` package (`sklearn.decomposition.LatentDirichletAllocation`). Number of topics should be pass through `n_components parameter`."
   ]
  },
  {
   "cell_type": "markdown",
   "metadata": {},
   "source": [
    "![alt text][logo]\n",
    "\n",
    "<center>Plate notation of LDA model</center>\n",
    "\n",
    "[logo]: https://upload.wikimedia.org/wikipedia/commons/4/4d/Smoothed_LDA.png"
   ]
  },
  {
   "cell_type": "markdown",
   "metadata": {},
   "source": [
    " It is easier to understand the mathematical theory that lays behind LDA model if we take a closer look on the method algorithm. It is an iterative procedure, where in each step we interpolate two kinds of multidimensional probabilistic distributions: \"word for $k$-th topic distribution\" $\\phi_k$ and \"topic for $d$-th document distribution\" $\\theta_d$."
   ]
  },
  {
   "cell_type": "code",
   "execution_count": 79,
   "metadata": {},
   "outputs": [
    {
     "data": {
      "text/html": [
       "\n",
       "\n",
       "\n",
       "\n",
       "\n",
       "\n",
       "  <div class=\"bk-root\" id=\"cfc1fb70-7c23-4a46-81b2-8b71b83a03a1\" data-root-id=\"8754\"></div>\n"
      ]
     },
     "metadata": {},
     "output_type": "display_data"
    },
    {
     "data": {
      "application/javascript": [
       "(function(root) {\n",
       "  function embed_document(root) {\n",
       "    \n",
       "  var docs_json = {\"6d9e0e78-e6b0-4c52-a176-c584cc73c3fd\":{\"roots\":{\"references\":[{\"attributes\":{\"children\":[{\"id\":\"8753\",\"type\":\"ToolbarBox\"},{\"id\":\"8751\",\"type\":\"GridBox\"}]},\"id\":\"8754\",\"type\":\"Column\"},{\"attributes\":{\"source\":{\"id\":\"8704\",\"type\":\"ColumnDataSource\"}},\"id\":\"8708\",\"type\":\"CDSView\"},{\"attributes\":{\"children\":[[{\"id\":\"8683\",\"subtype\":\"Figure\",\"type\":\"Plot\"},0,0],[{\"id\":\"8709\",\"subtype\":\"Figure\",\"type\":\"Plot\"},0,1]]},\"id\":\"8751\",\"type\":\"GridBox\"},{\"attributes\":{\"fill_alpha\":{\"value\":0.5},\"fill_color\":{\"value\":\"navy\"},\"line_alpha\":{\"value\":0.5},\"line_color\":{\"value\":\"white\"},\"top\":{\"field\":\"top\"},\"width\":{\"value\":0.9},\"x\":{\"field\":\"x\"}},\"id\":\"8731\",\"type\":\"VBar\"},{\"attributes\":{},\"id\":\"8749\",\"type\":\"Selection\"},{\"attributes\":{},\"id\":\"8746\",\"type\":\"BasicTickFormatter\"},{\"attributes\":{},\"id\":\"8744\",\"type\":\"CategoricalTickFormatter\"},{\"attributes\":{\"axis_label\":\"words\",\"formatter\":{\"id\":\"8736\",\"type\":\"CategoricalTickFormatter\"},\"major_label_orientation\":1.2,\"ticker\":{\"id\":\"8695\",\"type\":\"CategoricalTicker\"}},\"id\":\"8694\",\"type\":\"CategoricalAxis\"},{\"attributes\":{\"dimension\":1,\"ticker\":{\"id\":\"8725\",\"type\":\"BasicTicker\"}},\"id\":\"8728\",\"type\":\"Grid\"},{\"attributes\":{\"grid_line_color\":null,\"ticker\":{\"id\":\"8695\",\"type\":\"CategoricalTicker\"}},\"id\":\"8697\",\"type\":\"Grid\"},{\"attributes\":{},\"id\":\"8752\",\"type\":\"ProxyToolbar\"},{\"attributes\":{\"axis_label\":\"\\ud835\\udf19_\\ud835\\udc58\",\"formatter\":{\"id\":\"8738\",\"type\":\"BasicTickFormatter\"},\"major_label_text_font_size\":{\"value\":\"0pt\"},\"ticker\":{\"id\":\"8699\",\"type\":\"BasicTicker\"}},\"id\":\"8698\",\"type\":\"LinearAxis\"},{\"attributes\":{\"active_drag\":\"auto\",\"active_inspect\":\"auto\",\"active_multi\":null,\"active_scroll\":\"auto\",\"active_tap\":\"auto\"},\"id\":\"8729\",\"type\":\"Toolbar\"},{\"attributes\":{\"below\":[{\"id\":\"8694\",\"type\":\"CategoricalAxis\"}],\"center\":[{\"id\":\"8697\",\"type\":\"Grid\"},{\"id\":\"8702\",\"type\":\"Grid\"}],\"left\":[{\"id\":\"8698\",\"type\":\"LinearAxis\"}],\"plot_height\":200,\"plot_width\":200,\"renderers\":[{\"id\":\"8707\",\"type\":\"GlyphRenderer\"}],\"title\":{\"id\":\"8684\",\"type\":\"Title\"},\"toolbar\":{\"id\":\"8703\",\"type\":\"Toolbar\"},\"toolbar_location\":null,\"x_range\":{\"id\":\"8686\",\"type\":\"FactorRange\"},\"x_scale\":{\"id\":\"8690\",\"type\":\"CategoricalScale\"},\"y_range\":{\"id\":\"8688\",\"type\":\"DataRange1d\"},\"y_scale\":{\"id\":\"8692\",\"type\":\"LinearScale\"}},\"id\":\"8683\",\"subtype\":\"Figure\",\"type\":\"Plot\"},{\"attributes\":{\"text\":\"Topic k for documents\"},\"id\":\"8684\",\"type\":\"Title\"},{\"attributes\":{},\"id\":\"8725\",\"type\":\"BasicTicker\"},{\"attributes\":{},\"id\":\"8692\",\"type\":\"LinearScale\"},{\"attributes\":{\"callback\":null,\"data\":{\"top\":[1,1,2,1,1],\"x\":[\"float\",\"last\",\"longterm\",\"investor\",\"profit\"]},\"selected\":{\"id\":\"8741\",\"type\":\"Selection\"},\"selection_policy\":{\"id\":\"8740\",\"type\":\"UnionRenderers\"}},\"id\":\"8704\",\"type\":\"ColumnDataSource\"},{\"attributes\":{\"callback\":null,\"factors\":[\"float\",\"last\",\"longterm\",\"investor\",\"profit\"]},\"id\":\"8686\",\"type\":\"FactorRange\"},{\"attributes\":{\"toolbar\":{\"id\":\"8752\",\"type\":\"ProxyToolbar\"},\"toolbar_location\":\"above\"},\"id\":\"8753\",\"type\":\"ToolbarBox\"},{\"attributes\":{\"fill_alpha\":{\"value\":0.5},\"fill_color\":{\"value\":\"navy\"},\"line_alpha\":{\"value\":0.5},\"line_color\":{\"value\":\"white\"},\"top\":{\"field\":\"top\"},\"width\":{\"value\":0.9},\"x\":{\"field\":\"x\"}},\"id\":\"8705\",\"type\":\"VBar\"},{\"attributes\":{},\"id\":\"8741\",\"type\":\"Selection\"},{\"attributes\":{\"callback\":null,\"data\":{\"top\":[0.031960454153229984,0.03187831973200213,0.8729139875004236,0.031662659520169605,0.0315845790941746],\"x\":[\"0\",\"1\",\"2\",\"3\",\"4\"]},\"selected\":{\"id\":\"8749\",\"type\":\"Selection\"},\"selection_policy\":{\"id\":\"8748\",\"type\":\"UnionRenderers\"}},\"id\":\"8730\",\"type\":\"ColumnDataSource\"},{\"attributes\":{},\"id\":\"8695\",\"type\":\"CategoricalTicker\"},{\"attributes\":{\"data_source\":{\"id\":\"8704\",\"type\":\"ColumnDataSource\"},\"glyph\":{\"id\":\"8705\",\"type\":\"VBar\"},\"hover_glyph\":null,\"muted_glyph\":null,\"nonselection_glyph\":{\"id\":\"8706\",\"type\":\"VBar\"},\"selection_glyph\":null,\"view\":{\"id\":\"8708\",\"type\":\"CDSView\"}},\"id\":\"8707\",\"type\":\"GlyphRenderer\"},{\"attributes\":{},\"id\":\"8748\",\"type\":\"UnionRenderers\"},{\"attributes\":{\"source\":{\"id\":\"8730\",\"type\":\"ColumnDataSource\"}},\"id\":\"8734\",\"type\":\"CDSView\"},{\"attributes\":{\"below\":[{\"id\":\"8720\",\"type\":\"CategoricalAxis\"}],\"center\":[{\"id\":\"8723\",\"type\":\"Grid\"},{\"id\":\"8728\",\"type\":\"Grid\"}],\"left\":[{\"id\":\"8724\",\"type\":\"LinearAxis\"}],\"plot_height\":200,\"plot_width\":200,\"renderers\":[{\"id\":\"8733\",\"type\":\"GlyphRenderer\"}],\"title\":{\"id\":\"8710\",\"type\":\"Title\"},\"toolbar\":{\"id\":\"8729\",\"type\":\"Toolbar\"},\"toolbar_location\":null,\"x_range\":{\"id\":\"8712\",\"type\":\"FactorRange\"},\"x_scale\":{\"id\":\"8716\",\"type\":\"CategoricalScale\"},\"y_range\":{\"id\":\"8714\",\"type\":\"DataRange1d\"},\"y_scale\":{\"id\":\"8718\",\"type\":\"LinearScale\"}},\"id\":\"8709\",\"subtype\":\"Figure\",\"type\":\"Plot\"},{\"attributes\":{},\"id\":\"8718\",\"type\":\"LinearScale\"},{\"attributes\":{},\"id\":\"8690\",\"type\":\"CategoricalScale\"},{\"attributes\":{\"fill_alpha\":{\"value\":0.1},\"fill_color\":{\"value\":\"#1f77b4\"},\"line_alpha\":{\"value\":0.1},\"line_color\":{\"value\":\"#1f77b4\"},\"top\":{\"field\":\"top\"},\"width\":{\"value\":0.9},\"x\":{\"field\":\"x\"}},\"id\":\"8706\",\"type\":\"VBar\"},{\"attributes\":{},\"id\":\"8716\",\"type\":\"CategoricalScale\"},{\"attributes\":{\"grid_line_color\":null,\"ticker\":{\"id\":\"8721\",\"type\":\"CategoricalTicker\"}},\"id\":\"8723\",\"type\":\"Grid\"},{\"attributes\":{},\"id\":\"8740\",\"type\":\"UnionRenderers\"},{\"attributes\":{\"text\":\"Document d for topics\"},\"id\":\"8710\",\"type\":\"Title\"},{\"attributes\":{},\"id\":\"8721\",\"type\":\"CategoricalTicker\"},{\"attributes\":{\"active_drag\":\"auto\",\"active_inspect\":\"auto\",\"active_multi\":null,\"active_scroll\":\"auto\",\"active_tap\":\"auto\"},\"id\":\"8703\",\"type\":\"Toolbar\"},{\"attributes\":{\"callback\":null,\"start\":0},\"id\":\"8688\",\"type\":\"DataRange1d\"},{\"attributes\":{\"fill_alpha\":{\"value\":0.1},\"fill_color\":{\"value\":\"#1f77b4\"},\"line_alpha\":{\"value\":0.1},\"line_color\":{\"value\":\"#1f77b4\"},\"top\":{\"field\":\"top\"},\"width\":{\"value\":0.9},\"x\":{\"field\":\"x\"}},\"id\":\"8732\",\"type\":\"VBar\"},{\"attributes\":{\"dimension\":1,\"ticker\":{\"id\":\"8699\",\"type\":\"BasicTicker\"}},\"id\":\"8702\",\"type\":\"Grid\"},{\"attributes\":{},\"id\":\"8736\",\"type\":\"CategoricalTickFormatter\"},{\"attributes\":{\"axis_label\":\"topics\",\"formatter\":{\"id\":\"8744\",\"type\":\"CategoricalTickFormatter\"},\"major_label_orientation\":1.2,\"ticker\":{\"id\":\"8721\",\"type\":\"CategoricalTicker\"}},\"id\":\"8720\",\"type\":\"CategoricalAxis\"},{\"attributes\":{},\"id\":\"8738\",\"type\":\"BasicTickFormatter\"},{\"attributes\":{\"callback\":null,\"start\":0},\"id\":\"8714\",\"type\":\"DataRange1d\"},{\"attributes\":{\"axis_label\":\"\\u03b8_d\",\"formatter\":{\"id\":\"8746\",\"type\":\"BasicTickFormatter\"},\"major_label_text_font_size\":{\"value\":\"0pt\"},\"ticker\":{\"id\":\"8725\",\"type\":\"BasicTicker\"}},\"id\":\"8724\",\"type\":\"LinearAxis\"},{\"attributes\":{},\"id\":\"8699\",\"type\":\"BasicTicker\"},{\"attributes\":{\"data_source\":{\"id\":\"8730\",\"type\":\"ColumnDataSource\"},\"glyph\":{\"id\":\"8731\",\"type\":\"VBar\"},\"hover_glyph\":null,\"muted_glyph\":null,\"nonselection_glyph\":{\"id\":\"8732\",\"type\":\"VBar\"},\"selection_glyph\":null,\"view\":{\"id\":\"8734\",\"type\":\"CDSView\"}},\"id\":\"8733\",\"type\":\"GlyphRenderer\"},{\"attributes\":{\"callback\":null,\"factors\":[\"0\",\"1\",\"2\",\"3\",\"4\"]},\"id\":\"8712\",\"type\":\"FactorRange\"}],\"root_ids\":[\"8754\"]},\"title\":\"Bokeh Application\",\"version\":\"1.3.4\"}};\n",
       "  var render_items = [{\"docid\":\"6d9e0e78-e6b0-4c52-a176-c584cc73c3fd\",\"roots\":{\"8754\":\"cfc1fb70-7c23-4a46-81b2-8b71b83a03a1\"}}];\n",
       "  root.Bokeh.embed.embed_items_notebook(docs_json, render_items);\n",
       "\n",
       "  }\n",
       "  if (root.Bokeh !== undefined) {\n",
       "    embed_document(root);\n",
       "  } else {\n",
       "    var attempts = 0;\n",
       "    var timer = setInterval(function(root) {\n",
       "      if (root.Bokeh !== undefined) {\n",
       "        embed_document(root);\n",
       "        clearInterval(timer);\n",
       "      }\n",
       "      attempts++;\n",
       "      if (attempts > 100) {\n",
       "        console.log(\"Bokeh: ERROR: Unable to run BokehJS code because BokehJS library is missing\");\n",
       "        clearInterval(timer);\n",
       "      }\n",
       "    }, 10, root)\n",
       "  }\n",
       "})(window);"
      ],
      "application/vnd.bokehjs_exec.v0+json": ""
     },
     "metadata": {
      "application/vnd.bokehjs_exec.v0+json": {
       "id": "8754"
      }
     },
     "output_type": "display_data"
    }
   ],
   "source": [
    "# Example distributions"
   ]
  },
  {
   "cell_type": "markdown",
   "metadata": {},
   "source": [
    "As we search for the distributions we have a general idea of how they should look like.\n",
    "\n",
    "This _prior_ knowledge added to the model is the core of bayesian statistics and provides better performance. For distributions $\\phi_k$ we expect that some words will occur often in the $k$-th topic and the ones that will be very rare,  therefore **skewed** distributions of $\\phi_k$ would be appropriate. For distributions $\\theta_d$ we usually assume that the topics are **uniformely** distiributed across the $d$-th document. Both situations can be reflected well using Dirichlet distribution, although with different parameters:"
   ]
  },
  {
   "cell_type": "markdown",
   "metadata": {},
   "source": [
    "<center>\n",
    "$\\theta \\sim Dir(\\alpha)$, <br>\n",
    "$\\phi \\sim Dir(\\beta)$,\n",
    "</center>"
   ]
  },
  {
   "cell_type": "markdown",
   "metadata": {},
   "source": [
    "where:\n",
    "* $\\theta = (\\theta_1, \\theta_2, ..., \\theta_d, ..., \\theta_M)$,\n",
    "* $\\phi = (\\phi_1, \\phi_2, ... \\phi_k, ..., \\phi_K)$,\n",
    "* $M$ - number of all documents,\n",
    "* $K$ - number of topics\n",
    "\n",
    "It's worth to highlight that random variables drawn from $Dir(\\alpha)$ and $Dir(\\beta)$ are matrices of $M$ and $K$ rows respectively. They are called \\\"priors\\\" and in `sklearn` can be provide with arguments `doc_topic_prior`, `topic_word_prior`. Of course, if we expect some topics to be more popular we can manage the $\\alpha$ parameter to _bias_ the model toward those topics.\n",
    "\n",
    "Iteration runs several times across all the documents in the corpus calculating the topics probability each time taking the output of a previous run as an input for next one. For $n$-th document we have following formula:"
   ]
  },
  {
   "cell_type": "markdown",
   "metadata": {},
   "source": [
    "$$\n",
    "\\mathbb{P}(z_{dn} = k | z_{-(dn)}, w, \\alpha, \\beta) = \\frac{\\mathbb{P}(z_{dk}, z_{-(dk)}, w, \\alpha, \\beta)}{\\mathbb{P}(z_{-(dk)}, w, \\alpha, \\beta)} = \\frac{n_{dk} + \\alpha_{k} }{\\sum _{i}^{K}(n_{di} + \\alpha_{i})} \\frac{v_{kw_{dn}}+\\beta_{w_{dn}}}{\\sum_{i}(v_{ki}+\\beta_{i})}\n",
    "$$"
   ]
  },
  {
   "cell_type": "markdown",
   "metadata": {},
   "source": [
    "* $n_{dk}$ is the number of times document $d$ uses topic $k$,\n",
    "* $v_{kw}$ is the number of times topic $k$ uses given word $w$,\n",
    "* $z_{dk}$ is a probability of $d$-th word in $k$-th document and \n",
    "* $z_{-(dk)}$ is the oposite probability.\n",
    "\n",
    "In the above equation we assume conditional independence. This procedure is called Gibbs sampling.\n",
    "\n",
    "It is worth pointing out that $\\alpha$ and $\\beta$ are in fact $M$ and $K$ dimensional vectors, $\\theta$ is $K\\times M$ matrix and $\\phi$ is $V \\times K$ matrix ($V$ stands for vocabulary).\n",
    "\n",
    "Using the idea of generative process we assume that each document has a topic characterised by a distribution over all the words. That way we define"
   ]
  },
  {
   "cell_type": "markdown",
   "metadata": {},
   "source": [
    "<center>\n",
    "topic $z_{dj} \\sim Multinomial(\\theta_{d})$, <br>\n",
    "word $w_{dj} \\sim Multinomial(\\phi_{z_{dj}})$\n",
    "</center>"
   ]
  },
  {
   "cell_type": "markdown",
   "metadata": {},
   "source": [
    "for each of the word positions $d,j$ where $d \\in \\{1,\\dots ,M\\}$, and $j \\in \\{1,\\dots ,N_{d}\\}$, where $M$ is a number of documents and $N_d$ is a length of a document $d$.\n",
    "Random variable $w$ is a matrix containing probability of each document being to certain topic."
   ]
  },
  {
   "cell_type": "markdown",
   "metadata": {},
   "source": [
    "## 2. LDA using Python"
   ]
  },
  {
   "cell_type": "markdown",
   "metadata": {},
   "source": [
    "Before we will start coding let us set basic notation.\n",
    "\n",
    "<ul>\n",
    "\n",
    "   \n",
    "<li><b>Corpus</b> is a complete set of documents. In our case it will be the whole list of BBC news articles.</li>\n",
    "\n",
    "<li><b>Document</b> is a text that has a certain topic, for us it is just a particular article.</li>\n",
    "\n",
    "<li><b>Tokenisation</b> is the task of chopping up documents defined as character sequence into pieces, called tokens, perhaps at the same time throwing away certain characters.</li>\n",
    "\n",
    "<li><b>Stemming</b> is a process of retriving the root of each individual word of the document.</li>\n",
    "\n",
    "<li><b>Stopwords</b> are words that do not carry any information that would be helpful determining the document topic.</li>\n",
    "\n",
    "</ul>\n",
    "\n",
    "We will use following external libraries:"
   ]
  },
  {
   "cell_type": "code",
   "execution_count": null,
   "metadata": {},
   "outputs": [],
   "source": [
    "import glob\n",
    "import nltk\n",
    "import sklearn\n",
    "import pandas\n",
    "import bokeh"
   ]
  },
  {
   "cell_type": "markdown",
   "metadata": {},
   "source": [
    "### 2.1 Data"
   ]
  },
  {
   "cell_type": "markdown",
   "metadata": {},
   "source": [
    "The data was downloaded from [Kaggle Datasets][1].\n",
    "\n",
    "[1]:https://www.kaggle.com/pariza/bbc-news-summary"
   ]
  },
  {
   "cell_type": "markdown",
   "metadata": {},
   "source": [
    "For corpus of our dataset we will read all the downloaded articles into one list `corpus`.\n",
    "We will use the folder name as list of `labels` - this will be handy later for validation of LDA effectiveness.\n",
    "If you create a python script in the same directory as the downloaded data you can use bellow code \n",
    "to import the data."
   ]
  },
  {
   "cell_type": "code",
   "execution_count": 59,
   "metadata": {},
   "outputs": [],
   "source": [
    "import glob\n",
    "import os\n",
    "\n",
    "base_dir = \"BBC News Summary/News Articles\"\n",
    "# read news\n",
    "business_file_list = glob.glob(os.path.join(os.getcwd(), base_dir, \"business\", \"*.txt\"))\n",
    "entertainment_file_list = glob.glob(os.path.join(os.getcwd(), base_dir, \"entertainment\", \"*.txt\"))\n",
    "politics_file_list = glob.glob(os.path.join(os.getcwd(), base_dir, \"politics\", \"*.txt\"))\n",
    "sport_file_list = glob.glob(os.path.join(os.getcwd(), base_dir, \"sport\", \"*.txt\"))\n",
    "tech_file_list = glob.glob(os.path.join(os.getcwd(), base_dir, \"tech\", \"*.txt\"))\n",
    "\n",
    "labels = []\n",
    "corpus = []\n",
    "for file_list in [\n",
    "    business_file_list, entertainment_file_list, politics_file_list, sport_file_list, tech_file_list\n",
    "]:\n",
    "    for file_path in file_list:\n",
    "        with open(file_path, encoding=\"utf8\", errors='ignore') as f_input:\n",
    "            corpus.append((f_input.read()))\n",
    "            labels.append(file_path.split('/')[-2])"
   ]
  },
  {
   "cell_type": "markdown",
   "metadata": {},
   "source": [
    "### 2.2 Data preprocessing"
   ]
  },
  {
   "cell_type": "markdown",
   "metadata": {},
   "source": [
    "Before we can use our data to build a model we need to prepare it to a form that will be understood by LDA algorithm. \n",
    "\n",
    "It can be done by building a matrix that has documents for rows and bag of words (list of all words from the corpus) for columns. That way defining a count of certain words in each document.\n",
    "To achieve a better performance will also clean the input data so that the maximum amount of information can be represented as a smallest matrix possible. \n",
    "\n",
    "We will start with tokenization, that will split our documents into sentences and then into single words."
   ]
  },
  {
   "cell_type": "markdown",
   "metadata": {},
   "source": [
    "#### 2.2.1 Tokenisation"
   ]
  },
  {
   "cell_type": "markdown",
   "metadata": {},
   "source": [
    "Since we imported the corpus, now we will tokenize each document. We will also lowercase all the words and remove non alphabetic characters from them. We do that so we can count the number of certain words in each document later on. We see now that rare words or word variations contain relevant information as they would just be the tail of our distribution."
   ]
  },
  {
   "cell_type": "code",
   "execution_count": 60,
   "metadata": {},
   "outputs": [],
   "source": [
    "import nltk\n",
    "import re\n",
    "\n",
    "regex = re.compile('[^a-zA-Z]')\n",
    "\n",
    "def tokenize(text):\n",
    "    tokens = []\n",
    "    for sent in nltk.sent_tokenize(text):\n",
    "        for word in nltk.word_tokenize(sent):\n",
    "            clean_word = regex.sub('', word)\n",
    "            tokens.append(clean_word.lower())\n",
    "    return tokens"
   ]
  },
  {
   "cell_type": "markdown",
   "metadata": {},
   "source": [
    "Lets see how this looks like."
   ]
  },
  {
   "cell_type": "code",
   "execution_count": 61,
   "metadata": {},
   "outputs": [
    {
     "data": {
      "text/plain": [
       "['fiat',\n",
       " 'mulls',\n",
       " 'ferrari',\n",
       " 'market',\n",
       " 'listing',\n",
       " 'ferrari',\n",
       " 'could',\n",
       " 'be',\n",
       " 'listed',\n",
       " 'on']"
      ]
     },
     "execution_count": 61,
     "metadata": {},
     "output_type": "execute_result"
    }
   ],
   "source": [
    "tokenized = tokenize(corpus[500])\n",
    "tokenized[:10]"
   ]
  },
  {
   "cell_type": "code",
   "execution_count": 78,
   "metadata": {
    "scrolled": false
   },
   "outputs": [
    {
     "data": {
      "text/html": [
       "\n",
       "\n",
       "\n",
       "\n",
       "\n",
       "\n",
       "  <div class=\"bk-root\" id=\"d2b78c3d-4d55-4c0e-9ef0-3e1e643a6476\" data-root-id=\"8217\"></div>\n"
      ]
     },
     "metadata": {},
     "output_type": "display_data"
    },
    {
     "data": {
      "application/javascript": [
       "(function(root) {\n",
       "  function embed_document(root) {\n",
       "    \n",
       "  var docs_json = {\"31bd361f-731d-4c36-a4eb-0213ba80cab0\":{\"roots\":{\"references\":[{\"attributes\":{\"children\":[{\"id\":\"8216\",\"type\":\"ToolbarBox\"},{\"id\":\"8214\",\"type\":\"GridBox\"}]},\"id\":\"8217\",\"type\":\"Column\"},{\"attributes\":{\"grid_line_color\":null,\"ticker\":{\"id\":\"8158\",\"type\":\"CategoricalTicker\"}},\"id\":\"8160\",\"type\":\"Grid\"},{\"attributes\":{\"text\":\"Document #500 word count\"},\"id\":\"8173\",\"type\":\"Title\"},{\"attributes\":{},\"id\":\"8162\",\"type\":\"BasicTicker\"},{\"attributes\":{\"source\":{\"id\":\"8193\",\"type\":\"ColumnDataSource\"}},\"id\":\"8197\",\"type\":\"CDSView\"},{\"attributes\":{},\"id\":\"8201\",\"type\":\"BasicTickFormatter\"},{\"attributes\":{},\"id\":\"8188\",\"type\":\"BasicTicker\"},{\"attributes\":{},\"id\":\"8212\",\"type\":\"Selection\"},{\"attributes\":{\"data_source\":{\"id\":\"8193\",\"type\":\"ColumnDataSource\"},\"glyph\":{\"id\":\"8194\",\"type\":\"VBar\"},\"hover_glyph\":null,\"muted_glyph\":null,\"nonselection_glyph\":{\"id\":\"8195\",\"type\":\"VBar\"},\"selection_glyph\":null,\"view\":{\"id\":\"8197\",\"type\":\"CDSView\"}},\"id\":\"8196\",\"type\":\"GlyphRenderer\"},{\"attributes\":{\"toolbar\":{\"id\":\"8215\",\"type\":\"ProxyToolbar\"},\"toolbar_location\":\"above\"},\"id\":\"8216\",\"type\":\"ToolbarBox\"},{\"attributes\":{\"active_drag\":\"auto\",\"active_inspect\":\"auto\",\"active_multi\":null,\"active_scroll\":\"auto\",\"active_tap\":\"auto\"},\"id\":\"8192\",\"type\":\"Toolbar\"},{\"attributes\":{\"callback\":null,\"start\":0},\"id\":\"8177\",\"type\":\"DataRange1d\"},{\"attributes\":{\"fill_alpha\":{\"value\":0.5},\"fill_color\":{\"value\":\"navy\"},\"line_alpha\":{\"value\":0.5},\"line_color\":{\"value\":\"white\"},\"top\":{\"field\":\"top\"},\"width\":{\"value\":0.9},\"x\":{\"field\":\"x\"}},\"id\":\"8168\",\"type\":\"VBar\"},{\"attributes\":{\"below\":[{\"id\":\"8183\",\"type\":\"CategoricalAxis\"}],\"center\":[{\"id\":\"8186\",\"type\":\"Grid\"},{\"id\":\"8191\",\"type\":\"Grid\"}],\"left\":[{\"id\":\"8187\",\"type\":\"LinearAxis\"}],\"plot_height\":400,\"plot_width\":1200,\"renderers\":[{\"id\":\"8196\",\"type\":\"GlyphRenderer\"}],\"title\":{\"id\":\"8173\",\"type\":\"Title\"},\"toolbar\":{\"id\":\"8192\",\"type\":\"Toolbar\"},\"toolbar_location\":null,\"x_range\":{\"id\":\"8175\",\"type\":\"FactorRange\"},\"x_scale\":{\"id\":\"8179\",\"type\":\"CategoricalScale\"},\"y_range\":{\"id\":\"8177\",\"type\":\"DataRange1d\"},\"y_scale\":{\"id\":\"8181\",\"type\":\"LinearScale\"}},\"id\":\"8172\",\"subtype\":\"Figure\",\"type\":\"Plot\"},{\"attributes\":{},\"id\":\"8199\",\"type\":\"CategoricalTickFormatter\"},{\"attributes\":{\"dimension\":1,\"ticker\":{\"id\":\"8162\",\"type\":\"BasicTicker\"}},\"id\":\"8165\",\"type\":\"Grid\"},{\"attributes\":{\"callback\":null,\"data\":{\"top\":[9,8,7,6,6,6,6,5,5,4,4,4,3,3,3,3,2,2,2,2,2,2,2,2,2,2,2,2,2,1,1,1,1,1,1,1,1,1,1,1,1,1,1,1,1,1,1,1,1,1,1,1,1,1,1,1,1,1,1,1,1,1,1,1,1,1,1,1,1,1,1,1,1,1,1,1,1,1,1,1,1,1,1,1,1,1,1,1,1,1,1,1,1,1,1,1,1,1,1,1,1,1,1,1,1],\"x\":[\"life\",\"bonus\",\"withprofit\",\"stock\",\"rate\",\"market\",\"cut\",\"standard\",\"polici\",\"year\",\"invest\",\"insur\",\"well\",\"share\",\"policyhold\",\"gill\",\"term\",\"said\",\"return\",\"perform\",\"pension\",\"mr\",\"made\",\"low\",\"longterm\",\"long\",\"interest\",\"continu\",\"annual\",\"would\",\"volatil\",\"valu\",\"union\",\"type\",\"two\",\"trough\",\"trim\",\"time\",\"throughout\",\"three\",\"sun\",\"strong\",\"stick\",\"stand\",\"smooth\",\"slump\",\"sixth\",\"similar\",\"rise\",\"reserv\",\"reduc\",\"recoveri\",\"recov\",\"recent\",\"profit\",\"price\",\"poor\",\"period\",\"peak\",\"payout\",\"pay\",\"past\",\"part\",\"outperform\",\"norwich\",\"mutual\",\"million\",\"meant\",\"manag\",\"maintain\",\"loss\",\"look\",\"level\",\"last\",\"largest\",\"kept\",\"john\",\"investor\",\"howev\",\"histor\",\"good\",\"fund\",\"forc\",\"float\",\"firm\",\"feel\",\"even\",\"europ\",\"estim\",\"divis\",\"director\",\"despit\",\"design\",\"critic\",\"compens\",\"compani\",\"came\",\"blame\",\"benefit\",\"bad\",\"axa\",\"argu\",\"announc\",\"addit\",\"ad\"]},\"selected\":{\"id\":\"8204\",\"type\":\"Selection\"},\"selection_policy\":{\"id\":\"8203\",\"type\":\"UnionRenderers\"}},\"id\":\"8167\",\"type\":\"ColumnDataSource\"},{\"attributes\":{\"dimension\":1,\"ticker\":{\"id\":\"8188\",\"type\":\"BasicTicker\"}},\"id\":\"8191\",\"type\":\"Grid\"},{\"attributes\":{},\"id\":\"8209\",\"type\":\"BasicTickFormatter\"},{\"attributes\":{\"callback\":null,\"factors\":[\"fiat\",\"ferrari\",\"maserati\",\"bn\",\"said\",\"romeo\",\"market\",\"list\",\"could\",\"busi\",\"alfa\",\"report\",\"own\",\"euro\",\"would\",\"within\",\"time\",\"stake\",\"sell\",\"sale\",\"restructur\",\"motor\",\"financi\",\"develop\",\"consid\",\"chang\",\"car\",\"wholli\",\"valu\",\"us\",\"transfer\",\"togeth\",\"team\",\"tag\",\"synergi\",\"strong\",\"strip\",\"stock\",\"step\",\"sportscar\",\"share\",\"settlement\",\"set\",\"separ\",\"sector\",\"research\",\"recent\",\"reach\",\"race\",\"propos\",\"privat\",\"price\",\"pay\",\"part\",\"paper\",\"ownership\",\"overhaul\",\"outright\",\"opt\",\"oper\",\"one\",\"negoti\",\"mull\",\"move\",\"minor\",\"mediobanca\",\"may\",\"maker\",\"make\",\"loss\",\"liabl\",\"largest\",\"known\",\"italian\",\"itali\",\"includ\",\"icon\",\"help\",\"greater\",\"gm\",\"general\",\"formula\",\"float\",\"flexibl\",\"first\",\"firm\",\"exploit\",\"exit\",\"evid\",\"even\",\"end\",\"employ\",\"effort\",\"domin\",\"divis\",\"distribut\",\"despit\",\"day\",\"cost\",\"compani\",\"commerci\",\"comment\",\"closer\",\"carmak\",\"buy\",\"broke\",\"bring\",\"brand\",\"bought\",\"best\",\"bank\",\"announc\",\"analyst\",\"allianc\",\"agreement\",\"agre\"]},\"id\":\"8175\",\"type\":\"FactorRange\"},{\"attributes\":{\"fill_alpha\":{\"value\":0.1},\"fill_color\":{\"value\":\"#1f77b4\"},\"line_alpha\":{\"value\":0.1},\"line_color\":{\"value\":\"#1f77b4\"},\"top\":{\"field\":\"top\"},\"width\":{\"value\":0.9},\"x\":{\"field\":\"x\"}},\"id\":\"8169\",\"type\":\"VBar\"},{\"attributes\":{},\"id\":\"8204\",\"type\":\"Selection\"},{\"attributes\":{\"data_source\":{\"id\":\"8167\",\"type\":\"ColumnDataSource\"},\"glyph\":{\"id\":\"8168\",\"type\":\"VBar\"},\"hover_glyph\":null,\"muted_glyph\":null,\"nonselection_glyph\":{\"id\":\"8169\",\"type\":\"VBar\"},\"selection_glyph\":null,\"view\":{\"id\":\"8171\",\"type\":\"CDSView\"}},\"id\":\"8170\",\"type\":\"GlyphRenderer\"},{\"attributes\":{\"formatter\":{\"id\":\"8199\",\"type\":\"CategoricalTickFormatter\"},\"major_label_orientation\":1.2,\"ticker\":{\"id\":\"8158\",\"type\":\"CategoricalTicker\"}},\"id\":\"8157\",\"type\":\"CategoricalAxis\"},{\"attributes\":{},\"id\":\"8203\",\"type\":\"UnionRenderers\"},{\"attributes\":{},\"id\":\"8179\",\"type\":\"CategoricalScale\"},{\"attributes\":{\"children\":[[{\"id\":\"8146\",\"subtype\":\"Figure\",\"type\":\"Plot\"},0,0],[{\"id\":\"8172\",\"subtype\":\"Figure\",\"type\":\"Plot\"},1,0]]},\"id\":\"8214\",\"type\":\"GridBox\"},{\"attributes\":{\"formatter\":{\"id\":\"8201\",\"type\":\"BasicTickFormatter\"},\"ticker\":{\"id\":\"8162\",\"type\":\"BasicTicker\"}},\"id\":\"8161\",\"type\":\"LinearAxis\"},{\"attributes\":{\"source\":{\"id\":\"8167\",\"type\":\"ColumnDataSource\"}},\"id\":\"8171\",\"type\":\"CDSView\"},{\"attributes\":{\"text\":\"Document #200 word count\"},\"id\":\"8147\",\"type\":\"Title\"},{\"attributes\":{},\"id\":\"8181\",\"type\":\"LinearScale\"},{\"attributes\":{},\"id\":\"8158\",\"type\":\"CategoricalTicker\"},{\"attributes\":{\"active_drag\":\"auto\",\"active_inspect\":\"auto\",\"active_multi\":null,\"active_scroll\":\"auto\",\"active_tap\":\"auto\"},\"id\":\"8166\",\"type\":\"Toolbar\"},{\"attributes\":{\"callback\":null,\"factors\":[\"life\",\"bonus\",\"withprofit\",\"stock\",\"rate\",\"market\",\"cut\",\"standard\",\"polici\",\"year\",\"invest\",\"insur\",\"well\",\"share\",\"policyhold\",\"gill\",\"term\",\"said\",\"return\",\"perform\",\"pension\",\"mr\",\"made\",\"low\",\"longterm\",\"long\",\"interest\",\"continu\",\"annual\",\"would\",\"volatil\",\"valu\",\"union\",\"type\",\"two\",\"trough\",\"trim\",\"time\",\"throughout\",\"three\",\"sun\",\"strong\",\"stick\",\"stand\",\"smooth\",\"slump\",\"sixth\",\"similar\",\"rise\",\"reserv\",\"reduc\",\"recoveri\",\"recov\",\"recent\",\"profit\",\"price\",\"poor\",\"period\",\"peak\",\"payout\",\"pay\",\"past\",\"part\",\"outperform\",\"norwich\",\"mutual\",\"million\",\"meant\",\"manag\",\"maintain\",\"loss\",\"look\",\"level\",\"last\",\"largest\",\"kept\",\"john\",\"investor\",\"howev\",\"histor\",\"good\",\"fund\",\"forc\",\"float\",\"firm\",\"feel\",\"even\",\"europ\",\"estim\",\"divis\",\"director\",\"despit\",\"design\",\"critic\",\"compens\",\"compani\",\"came\",\"blame\",\"benefit\",\"bad\",\"axa\",\"argu\",\"announc\",\"addit\",\"ad\"]},\"id\":\"8149\",\"type\":\"FactorRange\"},{\"attributes\":{\"fill_alpha\":{\"value\":0.1},\"fill_color\":{\"value\":\"#1f77b4\"},\"line_alpha\":{\"value\":0.1},\"line_color\":{\"value\":\"#1f77b4\"},\"top\":{\"field\":\"top\"},\"width\":{\"value\":0.9},\"x\":{\"field\":\"x\"}},\"id\":\"8195\",\"type\":\"VBar\"},{\"attributes\":{},\"id\":\"8211\",\"type\":\"UnionRenderers\"},{\"attributes\":{\"fill_alpha\":{\"value\":0.5},\"fill_color\":{\"value\":\"navy\"},\"line_alpha\":{\"value\":0.5},\"line_color\":{\"value\":\"white\"},\"top\":{\"field\":\"top\"},\"width\":{\"value\":0.9},\"x\":{\"field\":\"x\"}},\"id\":\"8194\",\"type\":\"VBar\"},{\"attributes\":{},\"id\":\"8184\",\"type\":\"CategoricalTicker\"},{\"attributes\":{\"callback\":null,\"start\":0},\"id\":\"8151\",\"type\":\"DataRange1d\"},{\"attributes\":{\"formatter\":{\"id\":\"8207\",\"type\":\"CategoricalTickFormatter\"},\"major_label_orientation\":1.2,\"ticker\":{\"id\":\"8184\",\"type\":\"CategoricalTicker\"}},\"id\":\"8183\",\"type\":\"CategoricalAxis\"},{\"attributes\":{\"formatter\":{\"id\":\"8209\",\"type\":\"BasicTickFormatter\"},\"ticker\":{\"id\":\"8188\",\"type\":\"BasicTicker\"}},\"id\":\"8187\",\"type\":\"LinearAxis\"},{\"attributes\":{\"below\":[{\"id\":\"8157\",\"type\":\"CategoricalAxis\"}],\"center\":[{\"id\":\"8160\",\"type\":\"Grid\"},{\"id\":\"8165\",\"type\":\"Grid\"}],\"left\":[{\"id\":\"8161\",\"type\":\"LinearAxis\"}],\"plot_height\":400,\"plot_width\":1200,\"renderers\":[{\"id\":\"8170\",\"type\":\"GlyphRenderer\"}],\"title\":{\"id\":\"8147\",\"type\":\"Title\"},\"toolbar\":{\"id\":\"8166\",\"type\":\"Toolbar\"},\"toolbar_location\":null,\"x_range\":{\"id\":\"8149\",\"type\":\"FactorRange\"},\"x_scale\":{\"id\":\"8153\",\"type\":\"CategoricalScale\"},\"y_range\":{\"id\":\"8151\",\"type\":\"DataRange1d\"},\"y_scale\":{\"id\":\"8155\",\"type\":\"LinearScale\"}},\"id\":\"8146\",\"subtype\":\"Figure\",\"type\":\"Plot\"},{\"attributes\":{},\"id\":\"8215\",\"type\":\"ProxyToolbar\"},{\"attributes\":{},\"id\":\"8207\",\"type\":\"CategoricalTickFormatter\"},{\"attributes\":{},\"id\":\"8153\",\"type\":\"CategoricalScale\"},{\"attributes\":{},\"id\":\"8155\",\"type\":\"LinearScale\"},{\"attributes\":{\"callback\":null,\"data\":{\"top\":[11,7,6,6,5,4,4,4,4,4,4,3,3,3,2,2,2,2,2,2,2,2,2,2,2,2,2,1,1,1,1,1,1,1,1,1,1,1,1,1,1,1,1,1,1,1,1,1,1,1,1,1,1,1,1,1,1,1,1,1,1,1,1,1,1,1,1,1,1,1,1,1,1,1,1,1,1,1,1,1,1,1,1,1,1,1,1,1,1,1,1,1,1,1,1,1,1,1,1,1,1,1,1,1,1,1,1,1,1,1,1,1,1,1,1,1],\"x\":[\"fiat\",\"ferrari\",\"maserati\",\"bn\",\"said\",\"romeo\",\"market\",\"list\",\"could\",\"busi\",\"alfa\",\"report\",\"own\",\"euro\",\"would\",\"within\",\"time\",\"stake\",\"sell\",\"sale\",\"restructur\",\"motor\",\"financi\",\"develop\",\"consid\",\"chang\",\"car\",\"wholli\",\"valu\",\"us\",\"transfer\",\"togeth\",\"team\",\"tag\",\"synergi\",\"strong\",\"strip\",\"stock\",\"step\",\"sportscar\",\"share\",\"settlement\",\"set\",\"separ\",\"sector\",\"research\",\"recent\",\"reach\",\"race\",\"propos\",\"privat\",\"price\",\"pay\",\"part\",\"paper\",\"ownership\",\"overhaul\",\"outright\",\"opt\",\"oper\",\"one\",\"negoti\",\"mull\",\"move\",\"minor\",\"mediobanca\",\"may\",\"maker\",\"make\",\"loss\",\"liabl\",\"largest\",\"known\",\"italian\",\"itali\",\"includ\",\"icon\",\"help\",\"greater\",\"gm\",\"general\",\"formula\",\"float\",\"flexibl\",\"first\",\"firm\",\"exploit\",\"exit\",\"evid\",\"even\",\"end\",\"employ\",\"effort\",\"domin\",\"divis\",\"distribut\",\"despit\",\"day\",\"cost\",\"compani\",\"commerci\",\"comment\",\"closer\",\"carmak\",\"buy\",\"broke\",\"bring\",\"brand\",\"bought\",\"best\",\"bank\",\"announc\",\"analyst\",\"allianc\",\"agreement\",\"agre\"]},\"selected\":{\"id\":\"8212\",\"type\":\"Selection\"},\"selection_policy\":{\"id\":\"8211\",\"type\":\"UnionRenderers\"}},\"id\":\"8193\",\"type\":\"ColumnDataSource\"},{\"attributes\":{\"grid_line_color\":null,\"ticker\":{\"id\":\"8184\",\"type\":\"CategoricalTicker\"}},\"id\":\"8186\",\"type\":\"Grid\"}],\"root_ids\":[\"8217\"]},\"title\":\"Bokeh Application\",\"version\":\"1.3.4\"}};\n",
       "  var render_items = [{\"docid\":\"31bd361f-731d-4c36-a4eb-0213ba80cab0\",\"roots\":{\"8217\":\"d2b78c3d-4d55-4c0e-9ef0-3e1e643a6476\"}}];\n",
       "  root.Bokeh.embed.embed_items_notebook(docs_json, render_items);\n",
       "\n",
       "  }\n",
       "  if (root.Bokeh !== undefined) {\n",
       "    embed_document(root);\n",
       "  } else {\n",
       "    var attempts = 0;\n",
       "    var timer = setInterval(function(root) {\n",
       "      if (root.Bokeh !== undefined) {\n",
       "        embed_document(root);\n",
       "        clearInterval(timer);\n",
       "      }\n",
       "      attempts++;\n",
       "      if (attempts > 100) {\n",
       "        console.log(\"Bokeh: ERROR: Unable to run BokehJS code because BokehJS library is missing\");\n",
       "        clearInterval(timer);\n",
       "      }\n",
       "    }, 10, root)\n",
       "  }\n",
       "})(window);"
      ],
      "application/vnd.bokehjs_exec.v0+json": ""
     },
     "metadata": {
      "application/vnd.bokehjs_exec.v0+json": {
       "id": "8217"
      }
     },
     "output_type": "display_data"
    }
   ],
   "source": [
    "# Example documents word counts"
   ]
  },
  {
   "cell_type": "markdown",
   "metadata": {},
   "source": [
    "#### 2.2.2 Stopwords"
   ]
  },
  {
   "cell_type": "markdown",
   "metadata": {},
   "source": [
    "Now we will remove stopwords. Using the same logic we discussed while tokenizing, we now remove all the words that frequently appear in all documents. Their value for topic labeling is meaningless."
   ]
  },
  {
   "cell_type": "code",
   "execution_count": 62,
   "metadata": {},
   "outputs": [
    {
     "data": {
      "text/plain": [
       "['fiat',\n",
       " 'mulls',\n",
       " 'ferrari',\n",
       " 'market',\n",
       " 'listing',\n",
       " 'ferrari',\n",
       " 'could',\n",
       " 'listed',\n",
       " 'stock',\n",
       " 'market']"
      ]
     },
     "execution_count": 62,
     "metadata": {},
     "output_type": "execute_result"
    }
   ],
   "source": [
    "from nltk.corpus import stopwords as sw\n",
    "stopwords = sw.words('english')\n",
    "cleaned = [word for word in tokenized if word not in stopwords and word is not '']\n",
    "cleaned[:10]"
   ]
  },
  {
   "cell_type": "markdown",
   "metadata": {},
   "source": [
    "#### 2.2.3 Stemming"
   ]
  },
  {
   "cell_type": "markdown",
   "metadata": {},
   "source": [
    "Next step is to stem the remaining words. Here we standardizing words to their root."
   ]
  },
  {
   "cell_type": "code",
   "execution_count": 63,
   "metadata": {},
   "outputs": [],
   "source": [
    "from nltk.stem.snowball import SnowballStemmer\n",
    "\n",
    "stemmer = SnowballStemmer(\"english\")\n",
    "\n",
    "def stem(word):\n",
    "    return stemmer.stem(word).strip()"
   ]
  },
  {
   "cell_type": "markdown",
   "metadata": {},
   "source": [
    "Lets take a look how it went."
   ]
  },
  {
   "cell_type": "code",
   "execution_count": 64,
   "metadata": {},
   "outputs": [
    {
     "data": {
      "text/plain": [
       "['fiat',\n",
       " 'mull',\n",
       " 'ferrari',\n",
       " 'market',\n",
       " 'list',\n",
       " 'ferrari',\n",
       " 'could',\n",
       " 'list',\n",
       " 'stock',\n",
       " 'market']"
      ]
     },
     "execution_count": 64,
     "metadata": {},
     "output_type": "execute_result"
    }
   ],
   "source": [
    "stemed = [stem(word) for word in cleaned]\n",
    "stemed[:10]"
   ]
  },
  {
   "cell_type": "markdown",
   "metadata": {},
   "source": [
    "Perfect, the data is preprocessed and ready to apply `LDA` on it, but we would like to use a little improvement called `Term Frequency–Inverse Document Frequency`."
   ]
  },
  {
   "cell_type": "markdown",
   "metadata": {},
   "source": [
    "#### 2.2.4 TF-IDF"
   ]
  },
  {
   "cell_type": "markdown",
   "metadata": {},
   "source": [
    "The concept of `LDA` is that we use on input a matrix of word occurrences:"
   ]
  },
  {
   "cell_type": "markdown",
   "metadata": {},
   "source": [
    "$$\n",
    "\\omega_{t,d} = n_{t,d}\n",
    "$$"
   ]
  },
  {
   "cell_type": "markdown",
   "metadata": {},
   "source": [
    "While `TF-IDF` uses a product of two matrices:"
   ]
  },
  {
   "cell_type": "markdown",
   "metadata": {},
   "source": [
    "$$\n",
    "tf_{t,d} = \\frac{n_{t,d}}{\\sum_{t' \\in d}n_{t',d}}\n",
    "$$"
   ]
  },
  {
   "cell_type": "markdown",
   "metadata": {},
   "source": [
    "<center>\n",
    "        $n_{t,d}$ - occurrence number of word $t$ in document $d$ <br>\n",
    "</center>"
   ]
  },
  {
   "cell_type": "markdown",
   "metadata": {},
   "source": [
    "which gives the weight for each word in the document and"
   ]
  },
  {
   "cell_type": "markdown",
   "metadata": {},
   "source": [
    "$$\n",
    "idf(\\omega) = \\log \\left( \\frac{N}{df_t} \\right)\n",
    "$$"
   ]
  },
  {
   "cell_type": "markdown",
   "metadata": {},
   "source": [
    "<center>\n",
    "        $tf_{t}$ - number of documents containing word $t$<br>\n",
    "        $N$ - number of documents\n",
    "</center>"
   ]
  },
  {
   "cell_type": "markdown",
   "metadata": {},
   "source": [
    "which calculates inversed weight of a word in context of all documents, promoting rare words. The result matrix"
   ]
  },
  {
   "cell_type": "markdown",
   "metadata": {},
   "source": [
    "$$\n",
    "\\omega_{t,d} = tf_{t,d}\\times\\log \\left(\\frac{N}{df_{t}}\\right)\n",
    "$$"
   ]
  },
  {
   "cell_type": "markdown",
   "metadata": {},
   "source": [
    "has highest values for words that are not common in the corpus."
   ]
  },
  {
   "cell_type": "markdown",
   "metadata": {},
   "source": [
    "Both `LDA` and `TF-IDF` matrices are sparse which can cause some computing problems. That fact is recognised as disadvantage, but it can not really be adressed straightforward to the method itself."
   ]
  },
  {
   "cell_type": "markdown",
   "metadata": {},
   "source": [
    "#### 2.2.5 LDA application"
   ]
  },
  {
   "cell_type": "markdown",
   "metadata": {},
   "source": [
    "Let us now obtain desired matrix, basically all we need is a `TfidfVectorizer` class from `sklearn` library. We will use our previous work in parameters."
   ]
  },
  {
   "cell_type": "code",
   "execution_count": 65,
   "metadata": {},
   "outputs": [],
   "source": [
    "from sklearn.feature_extraction.text import TfidfVectorizer\n",
    "\n",
    "tfidf_vectorizer = TfidfVectorizer(max_df=0.8, max_features=10000,\n",
    "                                 min_df=0.05, stop_words=stopwords,\n",
    "                                 use_idf=True, tokenizer=tokenize,\n",
    "                                  lowercase=True, preprocessor=stem)"
   ]
  },
  {
   "cell_type": "markdown",
   "metadata": {},
   "source": [
    "For more details and all parameters explanation please see the sklearn [documentation][1].\n",
    "\n",
    "[1]:https://scikit-learn.org/stable/modules/generated/sklearn.feature_extraction.text.TfidfVectorizer.html"
   ]
  },
  {
   "cell_type": "code",
   "execution_count": 67,
   "metadata": {},
   "outputs": [],
   "source": [
    "tfidf_matrix = tfidf_vectorizer.fit_transform(corpus);"
   ]
  },
  {
   "cell_type": "markdown",
   "metadata": {},
   "source": [
    "#### 2.2.6 LDA"
   ]
  },
  {
   "cell_type": "markdown",
   "metadata": {},
   "source": [
    "Applying LDA on prepared matrics:"
   ]
  },
  {
   "cell_type": "code",
   "execution_count": 68,
   "metadata": {},
   "outputs": [],
   "source": [
    "from sklearn.decomposition import LatentDirichletAllocation\n",
    "\n",
    "lda = LatentDirichletAllocation(n_components=5, random_state=42)\n",
    "lda.fit(tfidf_matrix);"
   ]
  },
  {
   "cell_type": "markdown",
   "metadata": {},
   "source": [
    "We will check the 10 words with highest probability for each topic topic."
   ]
  },
  {
   "cell_type": "code",
   "execution_count": 69,
   "metadata": {},
   "outputs": [
    {
     "name": "stdout",
     "output_type": "stream",
     "text": [
      "Topic #0:\n",
      "['award', 'awards', 'party', 'brown', 'election', 'show', 'labour', 'best', 'mr', 'film']\n",
      "\n",
      "\n",
      "Topic #1:\n",
      "['sales', 'economy', 'bank', 'growth', 'firm', 'market', 'year', 'company', 'us', 'bn']\n",
      "\n",
      "\n",
      "Topic #2:\n",
      "['first', 'injury', 'players', 'match', 'cup', 'club', 'england', 'nt', 'win', 'game']\n",
      "\n",
      "\n",
      "Topic #3:\n",
      "['court', 'minister', 'secretary', 'scotland', 'people', 'law', 'would', 'government', 'wales', 'mr']\n",
      "\n",
      "\n",
      "Topic #4:\n",
      "['net', 'computer', 'phone', 'digital', 'music', 'software', 'users', 'mobile', 'technology', 'people']\n",
      "\n",
      "\n"
     ]
    }
   ],
   "source": [
    "for i,topic in enumerate(lda.components_):\n",
    "    print(f'Topic #{i}:')\n",
    "    print([tfidf_vectorizer.get_feature_names()[i] for i in topic.argsort()[-10:]])\n",
    "    print('\\n')"
   ]
  },
  {
   "cell_type": "markdown",
   "metadata": {},
   "source": [
    "Looks like the topics could be: movies or entertainment in general, economy, sport, politics and technology."
   ]
  },
  {
   "cell_type": "code",
   "execution_count": 70,
   "metadata": {},
   "outputs": [],
   "source": [
    "topic_values = lda.transform(tfidf_matrix)\n",
    "doc_num, topic_num = topic_values.shape"
   ]
  },
  {
   "cell_type": "markdown",
   "metadata": {},
   "source": [
    "Let us wrap it into a `Pandas` `Dataframe` so we can analyze it more efficiently."
   ]
  },
  {
   "cell_type": "code",
   "execution_count": 71,
   "metadata": {},
   "outputs": [
    {
     "data": {
      "text/html": [
       "<div>\n",
       "<style scoped>\n",
       "    .dataframe tbody tr th:only-of-type {\n",
       "        vertical-align: middle;\n",
       "    }\n",
       "\n",
       "    .dataframe tbody tr th {\n",
       "        vertical-align: top;\n",
       "    }\n",
       "\n",
       "    .dataframe thead tr th {\n",
       "        text-align: left;\n",
       "    }\n",
       "\n",
       "    .dataframe thead tr:last-of-type th {\n",
       "        text-align: right;\n",
       "    }\n",
       "</style>\n",
       "<table border=\"1\" class=\"dataframe\">\n",
       "  <thead>\n",
       "    <tr>\n",
       "      <th></th>\n",
       "      <th colspan=\"5\" halign=\"left\">document</th>\n",
       "    </tr>\n",
       "    <tr>\n",
       "      <th>lda</th>\n",
       "      <th>0</th>\n",
       "      <th>1</th>\n",
       "      <th>2</th>\n",
       "      <th>3</th>\n",
       "      <th>4</th>\n",
       "    </tr>\n",
       "    <tr>\n",
       "      <th>label</th>\n",
       "      <th></th>\n",
       "      <th></th>\n",
       "      <th></th>\n",
       "      <th></th>\n",
       "      <th></th>\n",
       "    </tr>\n",
       "  </thead>\n",
       "  <tbody>\n",
       "    <tr>\n",
       "      <td>business</td>\n",
       "      <td>5.0</td>\n",
       "      <td>480.0</td>\n",
       "      <td>1.0</td>\n",
       "      <td>15.0</td>\n",
       "      <td>9.0</td>\n",
       "    </tr>\n",
       "    <tr>\n",
       "      <td>entertainment</td>\n",
       "      <td>350.0</td>\n",
       "      <td>10.0</td>\n",
       "      <td>3.0</td>\n",
       "      <td>11.0</td>\n",
       "      <td>12.0</td>\n",
       "    </tr>\n",
       "    <tr>\n",
       "      <td>politics</td>\n",
       "      <td>150.0</td>\n",
       "      <td>8.0</td>\n",
       "      <td>NaN</td>\n",
       "      <td>251.0</td>\n",
       "      <td>8.0</td>\n",
       "    </tr>\n",
       "    <tr>\n",
       "      <td>sport</td>\n",
       "      <td>6.0</td>\n",
       "      <td>4.0</td>\n",
       "      <td>472.0</td>\n",
       "      <td>28.0</td>\n",
       "      <td>1.0</td>\n",
       "    </tr>\n",
       "    <tr>\n",
       "      <td>tech</td>\n",
       "      <td>9.0</td>\n",
       "      <td>12.0</td>\n",
       "      <td>11.0</td>\n",
       "      <td>11.0</td>\n",
       "      <td>358.0</td>\n",
       "    </tr>\n",
       "  </tbody>\n",
       "</table>\n",
       "</div>"
      ],
      "text/plain": [
       "              document                            \n",
       "lda                  0      1      2      3      4\n",
       "label                                             \n",
       "business           5.0  480.0    1.0   15.0    9.0\n",
       "entertainment    350.0   10.0    3.0   11.0   12.0\n",
       "politics         150.0    8.0    NaN  251.0    8.0\n",
       "sport              6.0    4.0  472.0   28.0    1.0\n",
       "tech               9.0   12.0   11.0   11.0  358.0"
      ]
     },
     "execution_count": 71,
     "metadata": {},
     "output_type": "execute_result"
    }
   ],
   "source": [
    "import pandas as pd\n",
    "df = pd.DataFrame({'document': corpus, 'label': labels, 'lda': topic_values.argmax(axis=1)})\n",
    "df.groupby(['label', 'lda']).count().unstack()"
   ]
  },
  {
   "cell_type": "markdown",
   "metadata": {},
   "source": [
    "Comparing \"lda\" results to \"labels\" that were taken from the data set, we can see that almost all articles were correctly specified. Only politics news were divided into entertainment and politics, but still arround 40% more were assigned correctly. That uncertainty is understandable, we saw that this two topic shared the same words."
   ]
  },
  {
   "cell_type": "markdown",
   "metadata": {},
   "source": [
    "## 3. Visualisation with `bokeh`"
   ]
  },
  {
   "cell_type": "markdown",
   "metadata": {},
   "source": [
    "Let's look at the matrix of probabilities for each document to better understand retrieved results."
   ]
  },
  {
   "cell_type": "code",
   "execution_count": 72,
   "metadata": {},
   "outputs": [],
   "source": [
    "prob_matrix = lda.transform(tfidf_matrix)"
   ]
  },
  {
   "cell_type": "markdown",
   "metadata": {},
   "source": [
    "### 3.1 Matrix transformation"
   ]
  },
  {
   "cell_type": "code",
   "execution_count": 73,
   "metadata": {},
   "outputs": [
    {
     "data": {
      "text/html": [
       "<div>\n",
       "<style scoped>\n",
       "    .dataframe tbody tr th:only-of-type {\n",
       "        vertical-align: middle;\n",
       "    }\n",
       "\n",
       "    .dataframe tbody tr th {\n",
       "        vertical-align: top;\n",
       "    }\n",
       "\n",
       "    .dataframe thead th {\n",
       "        text-align: right;\n",
       "    }\n",
       "</style>\n",
       "<table border=\"1\" class=\"dataframe\">\n",
       "  <thead>\n",
       "    <tr style=\"text-align: right;\">\n",
       "      <th></th>\n",
       "      <th>0</th>\n",
       "      <th>1</th>\n",
       "      <th>2</th>\n",
       "      <th>3</th>\n",
       "      <th>4</th>\n",
       "    </tr>\n",
       "  </thead>\n",
       "  <tbody>\n",
       "    <tr>\n",
       "      <td>0</td>\n",
       "      <td>0.025118</td>\n",
       "      <td>0.899510</td>\n",
       "      <td>0.025182</td>\n",
       "      <td>0.025091</td>\n",
       "      <td>0.025099</td>\n",
       "    </tr>\n",
       "    <tr>\n",
       "      <td>1</td>\n",
       "      <td>0.380475</td>\n",
       "      <td>0.547495</td>\n",
       "      <td>0.023812</td>\n",
       "      <td>0.024134</td>\n",
       "      <td>0.024084</td>\n",
       "    </tr>\n",
       "    <tr>\n",
       "      <td>2</td>\n",
       "      <td>0.025669</td>\n",
       "      <td>0.896890</td>\n",
       "      <td>0.026075</td>\n",
       "      <td>0.025574</td>\n",
       "      <td>0.025791</td>\n",
       "    </tr>\n",
       "    <tr>\n",
       "      <td>3</td>\n",
       "      <td>0.034627</td>\n",
       "      <td>0.834639</td>\n",
       "      <td>0.034424</td>\n",
       "      <td>0.034590</td>\n",
       "      <td>0.061720</td>\n",
       "    </tr>\n",
       "    <tr>\n",
       "      <td>4</td>\n",
       "      <td>0.044206</td>\n",
       "      <td>0.823558</td>\n",
       "      <td>0.043935</td>\n",
       "      <td>0.043844</td>\n",
       "      <td>0.044456</td>\n",
       "    </tr>\n",
       "    <tr>\n",
       "      <td>...</td>\n",
       "      <td>...</td>\n",
       "      <td>...</td>\n",
       "      <td>...</td>\n",
       "      <td>...</td>\n",
       "      <td>...</td>\n",
       "    </tr>\n",
       "    <tr>\n",
       "      <td>2220</td>\n",
       "      <td>0.030175</td>\n",
       "      <td>0.033565</td>\n",
       "      <td>0.044404</td>\n",
       "      <td>0.030370</td>\n",
       "      <td>0.861486</td>\n",
       "    </tr>\n",
       "    <tr>\n",
       "      <td>2221</td>\n",
       "      <td>0.035001</td>\n",
       "      <td>0.035894</td>\n",
       "      <td>0.392093</td>\n",
       "      <td>0.034688</td>\n",
       "      <td>0.502325</td>\n",
       "    </tr>\n",
       "    <tr>\n",
       "      <td>2222</td>\n",
       "      <td>0.033886</td>\n",
       "      <td>0.033625</td>\n",
       "      <td>0.033952</td>\n",
       "      <td>0.033222</td>\n",
       "      <td>0.865315</td>\n",
       "    </tr>\n",
       "    <tr>\n",
       "      <td>2223</td>\n",
       "      <td>0.036446</td>\n",
       "      <td>0.036475</td>\n",
       "      <td>0.036495</td>\n",
       "      <td>0.036324</td>\n",
       "      <td>0.854260</td>\n",
       "    </tr>\n",
       "    <tr>\n",
       "      <td>2224</td>\n",
       "      <td>0.039535</td>\n",
       "      <td>0.039606</td>\n",
       "      <td>0.039590</td>\n",
       "      <td>0.039497</td>\n",
       "      <td>0.841772</td>\n",
       "    </tr>\n",
       "  </tbody>\n",
       "</table>\n",
       "<p>2225 rows × 5 columns</p>\n",
       "</div>"
      ],
      "text/plain": [
       "             0         1         2         3         4\n",
       "0     0.025118  0.899510  0.025182  0.025091  0.025099\n",
       "1     0.380475  0.547495  0.023812  0.024134  0.024084\n",
       "2     0.025669  0.896890  0.026075  0.025574  0.025791\n",
       "3     0.034627  0.834639  0.034424  0.034590  0.061720\n",
       "4     0.044206  0.823558  0.043935  0.043844  0.044456\n",
       "...        ...       ...       ...       ...       ...\n",
       "2220  0.030175  0.033565  0.044404  0.030370  0.861486\n",
       "2221  0.035001  0.035894  0.392093  0.034688  0.502325\n",
       "2222  0.033886  0.033625  0.033952  0.033222  0.865315\n",
       "2223  0.036446  0.036475  0.036495  0.036324  0.854260\n",
       "2224  0.039535  0.039606  0.039590  0.039497  0.841772\n",
       "\n",
       "[2225 rows x 5 columns]"
      ]
     },
     "execution_count": 73,
     "metadata": {},
     "output_type": "execute_result"
    }
   ],
   "source": [
    "from math import pi\n",
    "import pandas as pd\n",
    "\n",
    "from bokeh.io import show\n",
    "from bokeh.models import LinearColorMapper, BasicTicker, PrintfTickFormatter, ColorBar\n",
    "from bokeh.plotting import figure\n",
    "from bokeh.sampledata.unemployment1948 import data\n",
    "\n",
    "prob_matrix_df = pd.DataFrame(data=prob_matrix[0:,0:], \n",
    "              index=list(range(len(prob_matrix))),\n",
    "              columns=list(range(topic_num)))\n",
    "prob_matrix_df"
   ]
  },
  {
   "cell_type": "code",
   "execution_count": 74,
   "metadata": {},
   "outputs": [],
   "source": [
    "prob_matrix_df['doc'] = list(range(doc_num))\n",
    "prob_matrix_df = prob_matrix_df.set_index('doc')\n",
    "prob_matrix_df.columns.name = 'topic'\n",
    "df = pd.DataFrame(prob_matrix_df.stack(), columns=['rate']).reset_index()"
   ]
  },
  {
   "cell_type": "markdown",
   "metadata": {},
   "source": [
    "### 3.2 Sample data"
   ]
  },
  {
   "cell_type": "code",
   "execution_count": 75,
   "metadata": {},
   "outputs": [],
   "source": [
    "import random\n",
    "rand = random.sample(range(1, 2555), 100)\n",
    "df_rand = df.loc[df['doc'].isin(rand)]\n",
    "\n",
    "df_rand.to_pickle(\"./df_rand.pkl\")\n",
    "df = pd.read_pickle(\"./df_rand.pkl\")\n",
    "\n",
    "df['doc'] = df['doc'].astype(str)\n",
    "df['topic'] = df['topic'].astype(str)\n",
    "df['rate'] = df['rate']*100\n",
    "\n",
    "docs = list(set(df_rand['doc']))\n",
    "docs.sort()\n",
    "docs = [str(i) for i in docs]\n",
    "docs;\n",
    "topics = ['0','1','2','3','4']"
   ]
  },
  {
   "cell_type": "markdown",
   "metadata": {},
   "source": [
    "### 3.3 Document - topic probability plot"
   ]
  },
  {
   "cell_type": "code",
   "execution_count": 76,
   "metadata": {},
   "outputs": [],
   "source": [
    "from bokeh.io import output_notebook"
   ]
  },
  {
   "cell_type": "code",
   "execution_count": 81,
   "metadata": {},
   "outputs": [
    {
     "data": {
      "text/html": [
       "\n",
       "    <div class=\"bk-root\">\n",
       "        <a href=\"https://bokeh.pydata.org\" target=\"_blank\" class=\"bk-logo bk-logo-small bk-logo-notebook\"></a>\n",
       "        <span id=\"9714\">Loading BokehJS ...</span>\n",
       "    </div>"
      ]
     },
     "metadata": {},
     "output_type": "display_data"
    },
    {
     "data": {
      "application/javascript": [
       "\n",
       "(function(root) {\n",
       "  function now() {\n",
       "    return new Date();\n",
       "  }\n",
       "\n",
       "  var force = true;\n",
       "\n",
       "  if (typeof root._bokeh_onload_callbacks === \"undefined\" || force === true) {\n",
       "    root._bokeh_onload_callbacks = [];\n",
       "    root._bokeh_is_loading = undefined;\n",
       "  }\n",
       "\n",
       "  var JS_MIME_TYPE = 'application/javascript';\n",
       "  var HTML_MIME_TYPE = 'text/html';\n",
       "  var EXEC_MIME_TYPE = 'application/vnd.bokehjs_exec.v0+json';\n",
       "  var CLASS_NAME = 'output_bokeh rendered_html';\n",
       "\n",
       "  /**\n",
       "   * Render data to the DOM node\n",
       "   */\n",
       "  function render(props, node) {\n",
       "    var script = document.createElement(\"script\");\n",
       "    node.appendChild(script);\n",
       "  }\n",
       "\n",
       "  /**\n",
       "   * Handle when an output is cleared or removed\n",
       "   */\n",
       "  function handleClearOutput(event, handle) {\n",
       "    var cell = handle.cell;\n",
       "\n",
       "    var id = cell.output_area._bokeh_element_id;\n",
       "    var server_id = cell.output_area._bokeh_server_id;\n",
       "    // Clean up Bokeh references\n",
       "    if (id != null && id in Bokeh.index) {\n",
       "      Bokeh.index[id].model.document.clear();\n",
       "      delete Bokeh.index[id];\n",
       "    }\n",
       "\n",
       "    if (server_id !== undefined) {\n",
       "      // Clean up Bokeh references\n",
       "      var cmd = \"from bokeh.io.state import curstate; print(curstate().uuid_to_server['\" + server_id + \"'].get_sessions()[0].document.roots[0]._id)\";\n",
       "      cell.notebook.kernel.execute(cmd, {\n",
       "        iopub: {\n",
       "          output: function(msg) {\n",
       "            var id = msg.content.text.trim();\n",
       "            if (id in Bokeh.index) {\n",
       "              Bokeh.index[id].model.document.clear();\n",
       "              delete Bokeh.index[id];\n",
       "            }\n",
       "          }\n",
       "        }\n",
       "      });\n",
       "      // Destroy server and session\n",
       "      var cmd = \"import bokeh.io.notebook as ion; ion.destroy_server('\" + server_id + \"')\";\n",
       "      cell.notebook.kernel.execute(cmd);\n",
       "    }\n",
       "  }\n",
       "\n",
       "  /**\n",
       "   * Handle when a new output is added\n",
       "   */\n",
       "  function handleAddOutput(event, handle) {\n",
       "    var output_area = handle.output_area;\n",
       "    var output = handle.output;\n",
       "\n",
       "    // limit handleAddOutput to display_data with EXEC_MIME_TYPE content only\n",
       "    if ((output.output_type != \"display_data\") || (!output.data.hasOwnProperty(EXEC_MIME_TYPE))) {\n",
       "      return\n",
       "    }\n",
       "\n",
       "    var toinsert = output_area.element.find(\".\" + CLASS_NAME.split(' ')[0]);\n",
       "\n",
       "    if (output.metadata[EXEC_MIME_TYPE][\"id\"] !== undefined) {\n",
       "      toinsert[toinsert.length - 1].firstChild.textContent = output.data[JS_MIME_TYPE];\n",
       "      // store reference to embed id on output_area\n",
       "      output_area._bokeh_element_id = output.metadata[EXEC_MIME_TYPE][\"id\"];\n",
       "    }\n",
       "    if (output.metadata[EXEC_MIME_TYPE][\"server_id\"] !== undefined) {\n",
       "      var bk_div = document.createElement(\"div\");\n",
       "      bk_div.innerHTML = output.data[HTML_MIME_TYPE];\n",
       "      var script_attrs = bk_div.children[0].attributes;\n",
       "      for (var i = 0; i < script_attrs.length; i++) {\n",
       "        toinsert[toinsert.length - 1].firstChild.setAttribute(script_attrs[i].name, script_attrs[i].value);\n",
       "      }\n",
       "      // store reference to server id on output_area\n",
       "      output_area._bokeh_server_id = output.metadata[EXEC_MIME_TYPE][\"server_id\"];\n",
       "    }\n",
       "  }\n",
       "\n",
       "  function register_renderer(events, OutputArea) {\n",
       "\n",
       "    function append_mime(data, metadata, element) {\n",
       "      // create a DOM node to render to\n",
       "      var toinsert = this.create_output_subarea(\n",
       "        metadata,\n",
       "        CLASS_NAME,\n",
       "        EXEC_MIME_TYPE\n",
       "      );\n",
       "      this.keyboard_manager.register_events(toinsert);\n",
       "      // Render to node\n",
       "      var props = {data: data, metadata: metadata[EXEC_MIME_TYPE]};\n",
       "      render(props, toinsert[toinsert.length - 1]);\n",
       "      element.append(toinsert);\n",
       "      return toinsert\n",
       "    }\n",
       "\n",
       "    /* Handle when an output is cleared or removed */\n",
       "    events.on('clear_output.CodeCell', handleClearOutput);\n",
       "    events.on('delete.Cell', handleClearOutput);\n",
       "\n",
       "    /* Handle when a new output is added */\n",
       "    events.on('output_added.OutputArea', handleAddOutput);\n",
       "\n",
       "    /**\n",
       "     * Register the mime type and append_mime function with output_area\n",
       "     */\n",
       "    OutputArea.prototype.register_mime_type(EXEC_MIME_TYPE, append_mime, {\n",
       "      /* Is output safe? */\n",
       "      safe: true,\n",
       "      /* Index of renderer in `output_area.display_order` */\n",
       "      index: 0\n",
       "    });\n",
       "  }\n",
       "\n",
       "  // register the mime type if in Jupyter Notebook environment and previously unregistered\n",
       "  if (root.Jupyter !== undefined) {\n",
       "    var events = require('base/js/events');\n",
       "    var OutputArea = require('notebook/js/outputarea').OutputArea;\n",
       "\n",
       "    if (OutputArea.prototype.mime_types().indexOf(EXEC_MIME_TYPE) == -1) {\n",
       "      register_renderer(events, OutputArea);\n",
       "    }\n",
       "  }\n",
       "\n",
       "  \n",
       "  if (typeof (root._bokeh_timeout) === \"undefined\" || force === true) {\n",
       "    root._bokeh_timeout = Date.now() + 5000;\n",
       "    root._bokeh_failed_load = false;\n",
       "  }\n",
       "\n",
       "  var NB_LOAD_WARNING = {'data': {'text/html':\n",
       "     \"<div style='background-color: #fdd'>\\n\"+\n",
       "     \"<p>\\n\"+\n",
       "     \"BokehJS does not appear to have successfully loaded. If loading BokehJS from CDN, this \\n\"+\n",
       "     \"may be due to a slow or bad network connection. Possible fixes:\\n\"+\n",
       "     \"</p>\\n\"+\n",
       "     \"<ul>\\n\"+\n",
       "     \"<li>re-rerun `output_notebook()` to attempt to load from CDN again, or</li>\\n\"+\n",
       "     \"<li>use INLINE resources instead, as so:</li>\\n\"+\n",
       "     \"</ul>\\n\"+\n",
       "     \"<code>\\n\"+\n",
       "     \"from bokeh.resources import INLINE\\n\"+\n",
       "     \"output_notebook(resources=INLINE)\\n\"+\n",
       "     \"</code>\\n\"+\n",
       "     \"</div>\"}};\n",
       "\n",
       "  function display_loaded() {\n",
       "    var el = document.getElementById(\"9714\");\n",
       "    if (el != null) {\n",
       "      el.textContent = \"BokehJS is loading...\";\n",
       "    }\n",
       "    if (root.Bokeh !== undefined) {\n",
       "      if (el != null) {\n",
       "        el.textContent = \"BokehJS \" + root.Bokeh.version + \" successfully loaded.\";\n",
       "      }\n",
       "    } else if (Date.now() < root._bokeh_timeout) {\n",
       "      setTimeout(display_loaded, 100)\n",
       "    }\n",
       "  }\n",
       "\n",
       "\n",
       "  function run_callbacks() {\n",
       "    try {\n",
       "      root._bokeh_onload_callbacks.forEach(function(callback) {\n",
       "        if (callback != null)\n",
       "          callback();\n",
       "      });\n",
       "    } finally {\n",
       "      delete root._bokeh_onload_callbacks\n",
       "    }\n",
       "    console.debug(\"Bokeh: all callbacks have finished\");\n",
       "  }\n",
       "\n",
       "  function load_libs(css_urls, js_urls, callback) {\n",
       "    if (css_urls == null) css_urls = [];\n",
       "    if (js_urls == null) js_urls = [];\n",
       "\n",
       "    root._bokeh_onload_callbacks.push(callback);\n",
       "    if (root._bokeh_is_loading > 0) {\n",
       "      console.debug(\"Bokeh: BokehJS is being loaded, scheduling callback at\", now());\n",
       "      return null;\n",
       "    }\n",
       "    if (js_urls == null || js_urls.length === 0) {\n",
       "      run_callbacks();\n",
       "      return null;\n",
       "    }\n",
       "    console.debug(\"Bokeh: BokehJS not loaded, scheduling load and callback at\", now());\n",
       "    root._bokeh_is_loading = css_urls.length + js_urls.length;\n",
       "\n",
       "    function on_load() {\n",
       "      root._bokeh_is_loading--;\n",
       "      if (root._bokeh_is_loading === 0) {\n",
       "        console.debug(\"Bokeh: all BokehJS libraries/stylesheets loaded\");\n",
       "        run_callbacks()\n",
       "      }\n",
       "    }\n",
       "\n",
       "    function on_error() {\n",
       "      console.error(\"failed to load \" + url);\n",
       "    }\n",
       "\n",
       "    for (var i = 0; i < css_urls.length; i++) {\n",
       "      var url = css_urls[i];\n",
       "      const element = document.createElement(\"link\");\n",
       "      element.onload = on_load;\n",
       "      element.onerror = on_error;\n",
       "      element.rel = \"stylesheet\";\n",
       "      element.type = \"text/css\";\n",
       "      element.href = url;\n",
       "      console.debug(\"Bokeh: injecting link tag for BokehJS stylesheet: \", url);\n",
       "      document.body.appendChild(element);\n",
       "    }\n",
       "\n",
       "    for (var i = 0; i < js_urls.length; i++) {\n",
       "      var url = js_urls[i];\n",
       "      var element = document.createElement('script');\n",
       "      element.onload = on_load;\n",
       "      element.onerror = on_error;\n",
       "      element.async = false;\n",
       "      element.src = url;\n",
       "      console.debug(\"Bokeh: injecting script tag for BokehJS library: \", url);\n",
       "      document.head.appendChild(element);\n",
       "    }\n",
       "  };var element = document.getElementById(\"9714\");\n",
       "  if (element == null) {\n",
       "    console.error(\"Bokeh: ERROR: autoload.js configured with elementid '9714' but no matching script tag was found. \")\n",
       "    return false;\n",
       "  }\n",
       "\n",
       "  function inject_raw_css(css) {\n",
       "    const element = document.createElement(\"style\");\n",
       "    element.appendChild(document.createTextNode(css));\n",
       "    document.body.appendChild(element);\n",
       "  }\n",
       "\n",
       "  var js_urls = [\"https://cdn.pydata.org/bokeh/release/bokeh-1.3.4.min.js\", \"https://cdn.pydata.org/bokeh/release/bokeh-widgets-1.3.4.min.js\", \"https://cdn.pydata.org/bokeh/release/bokeh-tables-1.3.4.min.js\", \"https://cdn.pydata.org/bokeh/release/bokeh-gl-1.3.4.min.js\"];\n",
       "  var css_urls = [];\n",
       "\n",
       "  var inline_js = [\n",
       "    function(Bokeh) {\n",
       "      Bokeh.set_log_level(\"info\");\n",
       "    },\n",
       "    \n",
       "    function(Bokeh) {\n",
       "      \n",
       "    },\n",
       "    function(Bokeh) {} // ensure no trailing comma for IE\n",
       "  ];\n",
       "\n",
       "  function run_inline_js() {\n",
       "    \n",
       "    if ((root.Bokeh !== undefined) || (force === true)) {\n",
       "      for (var i = 0; i < inline_js.length; i++) {\n",
       "        inline_js[i].call(root, root.Bokeh);\n",
       "      }if (force === true) {\n",
       "        display_loaded();\n",
       "      }} else if (Date.now() < root._bokeh_timeout) {\n",
       "      setTimeout(run_inline_js, 100);\n",
       "    } else if (!root._bokeh_failed_load) {\n",
       "      console.log(\"Bokeh: BokehJS failed to load within specified timeout.\");\n",
       "      root._bokeh_failed_load = true;\n",
       "    } else if (force !== true) {\n",
       "      var cell = $(document.getElementById(\"9714\")).parents('.cell').data().cell;\n",
       "      cell.output_area.append_execute_result(NB_LOAD_WARNING)\n",
       "    }\n",
       "\n",
       "  }\n",
       "\n",
       "  if (root._bokeh_is_loading === 0) {\n",
       "    console.debug(\"Bokeh: BokehJS loaded, going straight to plotting\");\n",
       "    run_inline_js();\n",
       "  } else {\n",
       "    load_libs(css_urls, js_urls, function() {\n",
       "      console.debug(\"Bokeh: BokehJS plotting callback run at\", now());\n",
       "      run_inline_js();\n",
       "    });\n",
       "  }\n",
       "}(window));"
      ],
      "application/vnd.bokehjs_load.v0+json": "\n(function(root) {\n  function now() {\n    return new Date();\n  }\n\n  var force = true;\n\n  if (typeof root._bokeh_onload_callbacks === \"undefined\" || force === true) {\n    root._bokeh_onload_callbacks = [];\n    root._bokeh_is_loading = undefined;\n  }\n\n  \n\n  \n  if (typeof (root._bokeh_timeout) === \"undefined\" || force === true) {\n    root._bokeh_timeout = Date.now() + 5000;\n    root._bokeh_failed_load = false;\n  }\n\n  var NB_LOAD_WARNING = {'data': {'text/html':\n     \"<div style='background-color: #fdd'>\\n\"+\n     \"<p>\\n\"+\n     \"BokehJS does not appear to have successfully loaded. If loading BokehJS from CDN, this \\n\"+\n     \"may be due to a slow or bad network connection. Possible fixes:\\n\"+\n     \"</p>\\n\"+\n     \"<ul>\\n\"+\n     \"<li>re-rerun `output_notebook()` to attempt to load from CDN again, or</li>\\n\"+\n     \"<li>use INLINE resources instead, as so:</li>\\n\"+\n     \"</ul>\\n\"+\n     \"<code>\\n\"+\n     \"from bokeh.resources import INLINE\\n\"+\n     \"output_notebook(resources=INLINE)\\n\"+\n     \"</code>\\n\"+\n     \"</div>\"}};\n\n  function display_loaded() {\n    var el = document.getElementById(\"9714\");\n    if (el != null) {\n      el.textContent = \"BokehJS is loading...\";\n    }\n    if (root.Bokeh !== undefined) {\n      if (el != null) {\n        el.textContent = \"BokehJS \" + root.Bokeh.version + \" successfully loaded.\";\n      }\n    } else if (Date.now() < root._bokeh_timeout) {\n      setTimeout(display_loaded, 100)\n    }\n  }\n\n\n  function run_callbacks() {\n    try {\n      root._bokeh_onload_callbacks.forEach(function(callback) {\n        if (callback != null)\n          callback();\n      });\n    } finally {\n      delete root._bokeh_onload_callbacks\n    }\n    console.debug(\"Bokeh: all callbacks have finished\");\n  }\n\n  function load_libs(css_urls, js_urls, callback) {\n    if (css_urls == null) css_urls = [];\n    if (js_urls == null) js_urls = [];\n\n    root._bokeh_onload_callbacks.push(callback);\n    if (root._bokeh_is_loading > 0) {\n      console.debug(\"Bokeh: BokehJS is being loaded, scheduling callback at\", now());\n      return null;\n    }\n    if (js_urls == null || js_urls.length === 0) {\n      run_callbacks();\n      return null;\n    }\n    console.debug(\"Bokeh: BokehJS not loaded, scheduling load and callback at\", now());\n    root._bokeh_is_loading = css_urls.length + js_urls.length;\n\n    function on_load() {\n      root._bokeh_is_loading--;\n      if (root._bokeh_is_loading === 0) {\n        console.debug(\"Bokeh: all BokehJS libraries/stylesheets loaded\");\n        run_callbacks()\n      }\n    }\n\n    function on_error() {\n      console.error(\"failed to load \" + url);\n    }\n\n    for (var i = 0; i < css_urls.length; i++) {\n      var url = css_urls[i];\n      const element = document.createElement(\"link\");\n      element.onload = on_load;\n      element.onerror = on_error;\n      element.rel = \"stylesheet\";\n      element.type = \"text/css\";\n      element.href = url;\n      console.debug(\"Bokeh: injecting link tag for BokehJS stylesheet: \", url);\n      document.body.appendChild(element);\n    }\n\n    for (var i = 0; i < js_urls.length; i++) {\n      var url = js_urls[i];\n      var element = document.createElement('script');\n      element.onload = on_load;\n      element.onerror = on_error;\n      element.async = false;\n      element.src = url;\n      console.debug(\"Bokeh: injecting script tag for BokehJS library: \", url);\n      document.head.appendChild(element);\n    }\n  };var element = document.getElementById(\"9714\");\n  if (element == null) {\n    console.error(\"Bokeh: ERROR: autoload.js configured with elementid '9714' but no matching script tag was found. \")\n    return false;\n  }\n\n  function inject_raw_css(css) {\n    const element = document.createElement(\"style\");\n    element.appendChild(document.createTextNode(css));\n    document.body.appendChild(element);\n  }\n\n  var js_urls = [\"https://cdn.pydata.org/bokeh/release/bokeh-1.3.4.min.js\", \"https://cdn.pydata.org/bokeh/release/bokeh-widgets-1.3.4.min.js\", \"https://cdn.pydata.org/bokeh/release/bokeh-tables-1.3.4.min.js\", \"https://cdn.pydata.org/bokeh/release/bokeh-gl-1.3.4.min.js\"];\n  var css_urls = [];\n\n  var inline_js = [\n    function(Bokeh) {\n      Bokeh.set_log_level(\"info\");\n    },\n    \n    function(Bokeh) {\n      \n    },\n    function(Bokeh) {} // ensure no trailing comma for IE\n  ];\n\n  function run_inline_js() {\n    \n    if ((root.Bokeh !== undefined) || (force === true)) {\n      for (var i = 0; i < inline_js.length; i++) {\n        inline_js[i].call(root, root.Bokeh);\n      }if (force === true) {\n        display_loaded();\n      }} else if (Date.now() < root._bokeh_timeout) {\n      setTimeout(run_inline_js, 100);\n    } else if (!root._bokeh_failed_load) {\n      console.log(\"Bokeh: BokehJS failed to load within specified timeout.\");\n      root._bokeh_failed_load = true;\n    } else if (force !== true) {\n      var cell = $(document.getElementById(\"9714\")).parents('.cell').data().cell;\n      cell.output_area.append_execute_result(NB_LOAD_WARNING)\n    }\n\n  }\n\n  if (root._bokeh_is_loading === 0) {\n    console.debug(\"Bokeh: BokehJS loaded, going straight to plotting\");\n    run_inline_js();\n  } else {\n    load_libs(css_urls, js_urls, function() {\n      console.debug(\"Bokeh: BokehJS plotting callback run at\", now());\n      run_inline_js();\n    });\n  }\n}(window));"
     },
     "metadata": {},
     "output_type": "display_data"
    },
    {
     "data": {
      "text/html": [
       "\n",
       "\n",
       "\n",
       "\n",
       "\n",
       "\n",
       "  <div class=\"bk-root\" id=\"26425006-7a04-430c-9ec1-cb3334617475\" data-root-id=\"9671\"></div>\n"
      ]
     },
     "metadata": {},
     "output_type": "display_data"
    },
    {
     "data": {
      "application/javascript": [
       "(function(root) {\n",
       "  function embed_document(root) {\n",
       "    \n",
       "  var docs_json = {\"d1c5c543-1c0a-44da-8400-466a5b319f5b\":{\"roots\":{\"references\":[{\"attributes\":{\"above\":[{\"id\":\"9682\",\"type\":\"CategoricalAxis\"}],\"center\":[{\"id\":\"9685\",\"type\":\"Grid\"},{\"id\":\"9689\",\"type\":\"Grid\"}],\"left\":[{\"id\":\"9686\",\"type\":\"CategoricalAxis\"}],\"plot_height\":1200,\"plot_width\":400,\"renderers\":[{\"id\":\"9707\",\"type\":\"GlyphRenderer\"}],\"right\":[{\"id\":\"9711\",\"type\":\"ColorBar\"}],\"title\":{\"id\":\"9672\",\"type\":\"Title\"},\"toolbar\":{\"id\":\"9696\",\"type\":\"Toolbar\"},\"toolbar_location\":\"below\",\"x_range\":{\"id\":\"9674\",\"type\":\"FactorRange\"},\"x_scale\":{\"id\":\"9678\",\"type\":\"CategoricalScale\"},\"y_range\":{\"id\":\"9676\",\"type\":\"FactorRange\"},\"y_scale\":{\"id\":\"9680\",\"type\":\"CategoricalScale\"}},\"id\":\"9671\",\"subtype\":\"Figure\",\"type\":\"Plot\"},{\"attributes\":{},\"id\":\"9680\",\"type\":\"CategoricalScale\"},{\"attributes\":{\"source\":{\"id\":\"9703\",\"type\":\"ColumnDataSource\"}},\"id\":\"9708\",\"type\":\"CDSView\"},{\"attributes\":{},\"id\":\"9980\",\"type\":\"CategoricalTickFormatter\"},{\"attributes\":{},\"id\":\"9694\",\"type\":\"ResetTool\"},{\"attributes\":{\"axis_line_color\":{\"value\":null},\"formatter\":{\"id\":\"9980\",\"type\":\"CategoricalTickFormatter\"},\"major_label_standoff\":0,\"major_label_text_font_size\":{\"value\":\"5pt\"},\"major_tick_line_color\":{\"value\":null},\"ticker\":{\"id\":\"9687\",\"type\":\"CategoricalTicker\"}},\"id\":\"9686\",\"type\":\"CategoricalAxis\"},{\"attributes\":{\"active_drag\":\"auto\",\"active_inspect\":\"auto\",\"active_multi\":null,\"active_scroll\":\"auto\",\"active_tap\":\"auto\",\"tools\":[{\"id\":\"9690\",\"type\":\"HoverTool\"},{\"id\":\"9691\",\"type\":\"SaveTool\"},{\"id\":\"9692\",\"type\":\"PanTool\"},{\"id\":\"9693\",\"type\":\"BoxZoomTool\"},{\"id\":\"9694\",\"type\":\"ResetTool\"},{\"id\":\"9695\",\"type\":\"WheelZoomTool\"}]},\"id\":\"9696\",\"type\":\"Toolbar\"},{\"attributes\":{},\"id\":\"9692\",\"type\":\"PanTool\"},{\"attributes\":{\"callback\":null,\"tooltips\":[[\"rate\",\"@rate%\"]]},\"id\":\"9690\",\"type\":\"HoverTool\"},{\"attributes\":{},\"id\":\"9983\",\"type\":\"Selection\"},{\"attributes\":{\"high\":91.67820899927362,\"low\":2.064358215159229,\"palette\":[\"#f7fbff\",\"#deebf7\",\"#c6dbef\",\"#9ecae1\",\"#6baed6\",\"#4292c6\",\"#2171b5\",\"#084594\"]},\"id\":\"9670\",\"type\":\"LinearColorMapper\"},{\"attributes\":{\"data_source\":{\"id\":\"9703\",\"type\":\"ColumnDataSource\"},\"glyph\":{\"id\":\"9705\",\"type\":\"Rect\"},\"hover_glyph\":null,\"muted_glyph\":null,\"nonselection_glyph\":{\"id\":\"9706\",\"type\":\"Rect\"},\"selection_glyph\":null,\"view\":{\"id\":\"9708\",\"type\":\"CDSView\"}},\"id\":\"9707\",\"type\":\"GlyphRenderer\"},{\"attributes\":{},\"id\":\"9683\",\"type\":\"CategoricalTicker\"},{\"attributes\":{},\"id\":\"9978\",\"type\":\"CategoricalTickFormatter\"},{\"attributes\":{},\"id\":\"9982\",\"type\":\"UnionRenderers\"},{\"attributes\":{\"desired_num_ticks\":8},\"id\":\"9709\",\"type\":\"BasicTicker\"},{\"attributes\":{\"dimension\":1,\"grid_line_color\":null,\"ticker\":{\"id\":\"9687\",\"type\":\"CategoricalTicker\"}},\"id\":\"9689\",\"type\":\"Grid\"},{\"attributes\":{\"bottom_units\":\"screen\",\"fill_alpha\":{\"value\":0.5},\"fill_color\":{\"value\":\"lightgrey\"},\"left_units\":\"screen\",\"level\":\"overlay\",\"line_alpha\":{\"value\":1.0},\"line_color\":{\"value\":\"black\"},\"line_dash\":[4,4],\"line_width\":{\"value\":2},\"render_mode\":\"css\",\"right_units\":\"screen\",\"top_units\":\"screen\"},\"id\":\"9984\",\"type\":\"BoxAnnotation\"},{\"attributes\":{\"callback\":null,\"data\":{\"doc\":[\"3\",\"3\",\"3\",\"3\",\"3\",\"13\",\"13\",\"13\",\"13\",\"13\",\"42\",\"42\",\"42\",\"42\",\"42\",\"85\",\"85\",\"85\",\"85\",\"85\",\"141\",\"141\",\"141\",\"141\",\"141\",\"208\",\"208\",\"208\",\"208\",\"208\",\"214\",\"214\",\"214\",\"214\",\"214\",\"218\",\"218\",\"218\",\"218\",\"218\",\"249\",\"249\",\"249\",\"249\",\"249\",\"262\",\"262\",\"262\",\"262\",\"262\",\"312\",\"312\",\"312\",\"312\",\"312\",\"326\",\"326\",\"326\",\"326\",\"326\",\"453\",\"453\",\"453\",\"453\",\"453\",\"466\",\"466\",\"466\",\"466\",\"466\",\"561\",\"561\",\"561\",\"561\",\"561\",\"566\",\"566\",\"566\",\"566\",\"566\",\"574\",\"574\",\"574\",\"574\",\"574\",\"588\",\"588\",\"588\",\"588\",\"588\",\"613\",\"613\",\"613\",\"613\",\"613\",\"619\",\"619\",\"619\",\"619\",\"619\",\"669\",\"669\",\"669\",\"669\",\"669\",\"716\",\"716\",\"716\",\"716\",\"716\",\"718\",\"718\",\"718\",\"718\",\"718\",\"819\",\"819\",\"819\",\"819\",\"819\",\"855\",\"855\",\"855\",\"855\",\"855\",\"864\",\"864\",\"864\",\"864\",\"864\",\"900\",\"900\",\"900\",\"900\",\"900\",\"916\",\"916\",\"916\",\"916\",\"916\",\"942\",\"942\",\"942\",\"942\",\"942\",\"949\",\"949\",\"949\",\"949\",\"949\",\"1082\",\"1082\",\"1082\",\"1082\",\"1082\",\"1141\",\"1141\",\"1141\",\"1141\",\"1141\",\"1158\",\"1158\",\"1158\",\"1158\",\"1158\",\"1198\",\"1198\",\"1198\",\"1198\",\"1198\",\"1214\",\"1214\",\"1214\",\"1214\",\"1214\",\"1234\",\"1234\",\"1234\",\"1234\",\"1234\",\"1262\",\"1262\",\"1262\",\"1262\",\"1262\",\"1278\",\"1278\",\"1278\",\"1278\",\"1278\",\"1308\",\"1308\",\"1308\",\"1308\",\"1308\",\"1321\",\"1321\",\"1321\",\"1321\",\"1321\",\"1339\",\"1339\",\"1339\",\"1339\",\"1339\",\"1344\",\"1344\",\"1344\",\"1344\",\"1344\",\"1359\",\"1359\",\"1359\",\"1359\",\"1359\",\"1406\",\"1406\",\"1406\",\"1406\",\"1406\",\"1457\",\"1457\",\"1457\",\"1457\",\"1457\",\"1459\",\"1459\",\"1459\",\"1459\",\"1459\",\"1494\",\"1494\",\"1494\",\"1494\",\"1494\",\"1514\",\"1514\",\"1514\",\"1514\",\"1514\",\"1546\",\"1546\",\"1546\",\"1546\",\"1546\",\"1589\",\"1589\",\"1589\",\"1589\",\"1589\",\"1623\",\"1623\",\"1623\",\"1623\",\"1623\",\"1658\",\"1658\",\"1658\",\"1658\",\"1658\",\"1662\",\"1662\",\"1662\",\"1662\",\"1662\",\"1719\",\"1719\",\"1719\",\"1719\",\"1719\",\"1734\",\"1734\",\"1734\",\"1734\",\"1734\",\"1741\",\"1741\",\"1741\",\"1741\",\"1741\",\"1752\",\"1752\",\"1752\",\"1752\",\"1752\",\"1824\",\"1824\",\"1824\",\"1824\",\"1824\",\"1843\",\"1843\",\"1843\",\"1843\",\"1843\",\"1858\",\"1858\",\"1858\",\"1858\",\"1858\",\"1862\",\"1862\",\"1862\",\"1862\",\"1862\",\"1871\",\"1871\",\"1871\",\"1871\",\"1871\",\"1886\",\"1886\",\"1886\",\"1886\",\"1886\",\"1926\",\"1926\",\"1926\",\"1926\",\"1926\",\"1927\",\"1927\",\"1927\",\"1927\",\"1927\",\"1928\",\"1928\",\"1928\",\"1928\",\"1928\",\"1937\",\"1937\",\"1937\",\"1937\",\"1937\",\"1939\",\"1939\",\"1939\",\"1939\",\"1939\",\"2008\",\"2008\",\"2008\",\"2008\",\"2008\",\"2035\",\"2035\",\"2035\",\"2035\",\"2035\",\"2090\",\"2090\",\"2090\",\"2090\",\"2090\",\"2126\",\"2126\",\"2126\",\"2126\",\"2126\",\"2147\",\"2147\",\"2147\",\"2147\",\"2147\",\"2179\",\"2179\",\"2179\",\"2179\",\"2179\",\"2186\",\"2186\",\"2186\",\"2186\",\"2186\",\"2205\",\"2205\",\"2205\",\"2205\",\"2205\",\"2219\",\"2219\",\"2219\",\"2219\",\"2219\",\"2223\",\"2223\",\"2223\",\"2223\",\"2223\"],\"index\":[15,16,17,18,19,65,66,67,68,69,210,211,212,213,214,425,426,427,428,429,705,706,707,708,709,1040,1041,1042,1043,1044,1070,1071,1072,1073,1074,1090,1091,1092,1093,1094,1245,1246,1247,1248,1249,1310,1311,1312,1313,1314,1560,1561,1562,1563,1564,1630,1631,1632,1633,1634,2265,2266,2267,2268,2269,2330,2331,2332,2333,2334,2805,2806,2807,2808,2809,2830,2831,2832,2833,2834,2870,2871,2872,2873,2874,2940,2941,2942,2943,2944,3065,3066,3067,3068,3069,3095,3096,3097,3098,3099,3345,3346,3347,3348,3349,3580,3581,3582,3583,3584,3590,3591,3592,3593,3594,4095,4096,4097,4098,4099,4275,4276,4277,4278,4279,4320,4321,4322,4323,4324,4500,4501,4502,4503,4504,4580,4581,4582,4583,4584,4710,4711,4712,4713,4714,4745,4746,4747,4748,4749,5410,5411,5412,5413,5414,5705,5706,5707,5708,5709,5790,5791,5792,5793,5794,5990,5991,5992,5993,5994,6070,6071,6072,6073,6074,6170,6171,6172,6173,6174,6310,6311,6312,6313,6314,6390,6391,6392,6393,6394,6540,6541,6542,6543,6544,6605,6606,6607,6608,6609,6695,6696,6697,6698,6699,6720,6721,6722,6723,6724,6795,6796,6797,6798,6799,7030,7031,7032,7033,7034,7285,7286,7287,7288,7289,7295,7296,7297,7298,7299,7470,7471,7472,7473,7474,7570,7571,7572,7573,7574,7730,7731,7732,7733,7734,7945,7946,7947,7948,7949,8115,8116,8117,8118,8119,8290,8291,8292,8293,8294,8310,8311,8312,8313,8314,8595,8596,8597,8598,8599,8670,8671,8672,8673,8674,8705,8706,8707,8708,8709,8760,8761,8762,8763,8764,9120,9121,9122,9123,9124,9215,9216,9217,9218,9219,9290,9291,9292,9293,9294,9310,9311,9312,9313,9314,9355,9356,9357,9358,9359,9430,9431,9432,9433,9434,9630,9631,9632,9633,9634,9635,9636,9637,9638,9639,9640,9641,9642,9643,9644,9685,9686,9687,9688,9689,9695,9696,9697,9698,9699,10040,10041,10042,10043,10044,10175,10176,10177,10178,10179,10450,10451,10452,10453,10454,10630,10631,10632,10633,10634,10735,10736,10737,10738,10739,10895,10896,10897,10898,10899,10930,10931,10932,10933,10934,11025,11026,11027,11028,11029,11095,11096,11097,11098,11099,11115,11116,11117,11118,11119],\"rate\":{\"__ndarray__\":\"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\",\"dtype\":\"float64\",\"shape\":[390]},\"topic\":[\"0\",\"1\",\"2\",\"3\",\"4\",\"0\",\"1\",\"2\",\"3\",\"4\",\"0\",\"1\",\"2\",\"3\",\"4\",\"0\",\"1\",\"2\",\"3\",\"4\",\"0\",\"1\",\"2\",\"3\",\"4\",\"0\",\"1\",\"2\",\"3\",\"4\",\"0\",\"1\",\"2\",\"3\",\"4\",\"0\",\"1\",\"2\",\"3\",\"4\",\"0\",\"1\",\"2\",\"3\",\"4\",\"0\",\"1\",\"2\",\"3\",\"4\",\"0\",\"1\",\"2\",\"3\",\"4\",\"0\",\"1\",\"2\",\"3\",\"4\",\"0\",\"1\",\"2\",\"3\",\"4\",\"0\",\"1\",\"2\",\"3\",\"4\",\"0\",\"1\",\"2\",\"3\",\"4\",\"0\",\"1\",\"2\",\"3\",\"4\",\"0\",\"1\",\"2\",\"3\",\"4\",\"0\",\"1\",\"2\",\"3\",\"4\",\"0\",\"1\",\"2\",\"3\",\"4\",\"0\",\"1\",\"2\",\"3\",\"4\",\"0\",\"1\",\"2\",\"3\",\"4\",\"0\",\"1\",\"2\",\"3\",\"4\",\"0\",\"1\",\"2\",\"3\",\"4\",\"0\",\"1\",\"2\",\"3\",\"4\",\"0\",\"1\",\"2\",\"3\",\"4\",\"0\",\"1\",\"2\",\"3\",\"4\",\"0\",\"1\",\"2\",\"3\",\"4\",\"0\",\"1\",\"2\",\"3\",\"4\",\"0\",\"1\",\"2\",\"3\",\"4\",\"0\",\"1\",\"2\",\"3\",\"4\",\"0\",\"1\",\"2\",\"3\",\"4\",\"0\",\"1\",\"2\",\"3\",\"4\",\"0\",\"1\",\"2\",\"3\",\"4\",\"0\",\"1\",\"2\",\"3\",\"4\",\"0\",\"1\",\"2\",\"3\",\"4\",\"0\",\"1\",\"2\",\"3\",\"4\",\"0\",\"1\",\"2\",\"3\",\"4\",\"0\",\"1\",\"2\",\"3\",\"4\",\"0\",\"1\",\"2\",\"3\",\"4\",\"0\",\"1\",\"2\",\"3\",\"4\",\"0\",\"1\",\"2\",\"3\",\"4\",\"0\",\"1\",\"2\",\"3\",\"4\",\"0\",\"1\",\"2\",\"3\",\"4\",\"0\",\"1\",\"2\",\"3\",\"4\",\"0\",\"1\",\"2\",\"3\",\"4\",\"0\",\"1\",\"2\",\"3\",\"4\",\"0\",\"1\",\"2\",\"3\",\"4\",\"0\",\"1\",\"2\",\"3\",\"4\",\"0\",\"1\",\"2\",\"3\",\"4\",\"0\",\"1\",\"2\",\"3\",\"4\",\"0\",\"1\",\"2\",\"3\",\"4\",\"0\",\"1\",\"2\",\"3\",\"4\",\"0\",\"1\",\"2\",\"3\",\"4\",\"0\",\"1\",\"2\",\"3\",\"4\",\"0\",\"1\",\"2\",\"3\",\"4\",\"0\",\"1\",\"2\",\"3\",\"4\",\"0\",\"1\",\"2\",\"3\",\"4\",\"0\",\"1\",\"2\",\"3\",\"4\",\"0\",\"1\",\"2\",\"3\",\"4\",\"0\",\"1\",\"2\",\"3\",\"4\",\"0\",\"1\",\"2\",\"3\",\"4\",\"0\",\"1\",\"2\",\"3\",\"4\",\"0\",\"1\",\"2\",\"3\",\"4\",\"0\",\"1\",\"2\",\"3\",\"4\",\"0\",\"1\",\"2\",\"3\",\"4\",\"0\",\"1\",\"2\",\"3\",\"4\",\"0\",\"1\",\"2\",\"3\",\"4\",\"0\",\"1\",\"2\",\"3\",\"4\",\"0\",\"1\",\"2\",\"3\",\"4\",\"0\",\"1\",\"2\",\"3\",\"4\",\"0\",\"1\",\"2\",\"3\",\"4\",\"0\",\"1\",\"2\",\"3\",\"4\",\"0\",\"1\",\"2\",\"3\",\"4\",\"0\",\"1\",\"2\",\"3\",\"4\",\"0\",\"1\",\"2\",\"3\",\"4\",\"0\",\"1\",\"2\",\"3\",\"4\",\"0\",\"1\",\"2\",\"3\",\"4\",\"0\",\"1\",\"2\",\"3\",\"4\"]},\"selected\":{\"id\":\"9983\",\"type\":\"Selection\"},\"selection_policy\":{\"id\":\"9982\",\"type\":\"UnionRenderers\"}},\"id\":\"9703\",\"type\":\"ColumnDataSource\"},{\"attributes\":{\"format\":\"%d%%\"},\"id\":\"9710\",\"type\":\"PrintfTickFormatter\"},{\"attributes\":{\"fill_color\":{\"field\":\"rate\",\"transform\":{\"id\":\"9670\",\"type\":\"LinearColorMapper\"}},\"height\":{\"units\":\"data\",\"value\":1},\"line_color\":{\"value\":null},\"width\":{\"units\":\"data\",\"value\":1},\"x\":{\"field\":\"topic\"},\"y\":{\"field\":\"doc\"}},\"id\":\"9705\",\"type\":\"Rect\"},{\"attributes\":{\"color_mapper\":{\"id\":\"9670\",\"type\":\"LinearColorMapper\"},\"formatter\":{\"id\":\"9710\",\"type\":\"PrintfTickFormatter\"},\"label_standoff\":6,\"location\":[0,0],\"major_label_text_font_size\":{\"value\":\"5pt\"},\"ticker\":{\"id\":\"9709\",\"type\":\"BasicTicker\"}},\"id\":\"9711\",\"type\":\"ColorBar\"},{\"attributes\":{\"callback\":null,\"factors\":[\"0\",\"1\",\"2\",\"3\",\"4\"]},\"id\":\"9674\",\"type\":\"FactorRange\"},{\"attributes\":{\"grid_line_color\":null,\"ticker\":{\"id\":\"9683\",\"type\":\"CategoricalTicker\"}},\"id\":\"9685\",\"type\":\"Grid\"},{\"attributes\":{\"overlay\":{\"id\":\"9984\",\"type\":\"BoxAnnotation\"}},\"id\":\"9693\",\"type\":\"BoxZoomTool\"},{\"attributes\":{},\"id\":\"9691\",\"type\":\"SaveTool\"},{\"attributes\":{\"text\":\"Topic probability per document\"},\"id\":\"9672\",\"type\":\"Title\"},{\"attributes\":{},\"id\":\"9695\",\"type\":\"WheelZoomTool\"},{\"attributes\":{\"axis_line_color\":{\"value\":null},\"formatter\":{\"id\":\"9978\",\"type\":\"CategoricalTickFormatter\"},\"major_label_orientation\":1.0471975511965976,\"major_label_standoff\":0,\"major_label_text_font_size\":{\"value\":\"5pt\"},\"major_tick_line_color\":{\"value\":null},\"ticker\":{\"id\":\"9683\",\"type\":\"CategoricalTicker\"}},\"id\":\"9682\",\"type\":\"CategoricalAxis\"},{\"attributes\":{\"fill_alpha\":{\"value\":0.1},\"fill_color\":{\"value\":\"#1f77b4\"},\"height\":{\"units\":\"data\",\"value\":1},\"line_alpha\":{\"value\":0.1},\"line_color\":{\"value\":\"#1f77b4\"},\"width\":{\"units\":\"data\",\"value\":1},\"x\":{\"field\":\"topic\"},\"y\":{\"field\":\"doc\"}},\"id\":\"9706\",\"type\":\"Rect\"},{\"attributes\":{},\"id\":\"9687\",\"type\":\"CategoricalTicker\"},{\"attributes\":{},\"id\":\"9678\",\"type\":\"CategoricalScale\"},{\"attributes\":{\"callback\":null,\"factors\":[\"3\",\"13\",\"42\",\"85\",\"141\",\"208\",\"214\",\"218\",\"249\",\"262\",\"312\",\"326\",\"453\",\"466\",\"561\",\"566\",\"574\",\"588\",\"613\",\"619\",\"669\",\"716\",\"718\",\"819\",\"855\",\"864\",\"900\",\"916\",\"942\",\"949\",\"1082\",\"1141\",\"1158\",\"1198\",\"1214\",\"1234\",\"1262\",\"1278\",\"1308\",\"1321\",\"1339\",\"1344\",\"1359\",\"1406\",\"1457\",\"1459\",\"1494\",\"1514\",\"1546\",\"1589\",\"1623\",\"1658\",\"1662\",\"1719\",\"1734\",\"1741\",\"1752\",\"1824\",\"1843\",\"1858\",\"1862\",\"1871\",\"1886\",\"1926\",\"1927\",\"1928\",\"1937\",\"1939\",\"2008\",\"2035\",\"2090\",\"2126\",\"2147\",\"2179\",\"2186\",\"2205\",\"2219\",\"2223\"]},\"id\":\"9676\",\"type\":\"FactorRange\"}],\"root_ids\":[\"9671\"]},\"title\":\"Bokeh Application\",\"version\":\"1.3.4\"}};\n",
       "  var render_items = [{\"docid\":\"d1c5c543-1c0a-44da-8400-466a5b319f5b\",\"roots\":{\"9671\":\"26425006-7a04-430c-9ec1-cb3334617475\"}}];\n",
       "  root.Bokeh.embed.embed_items_notebook(docs_json, render_items);\n",
       "\n",
       "  }\n",
       "  if (root.Bokeh !== undefined) {\n",
       "    embed_document(root);\n",
       "  } else {\n",
       "    var attempts = 0;\n",
       "    var timer = setInterval(function(root) {\n",
       "      if (root.Bokeh !== undefined) {\n",
       "        embed_document(root);\n",
       "        clearInterval(timer);\n",
       "      }\n",
       "      attempts++;\n",
       "      if (attempts > 100) {\n",
       "        console.log(\"Bokeh: ERROR: Unable to run BokehJS code because BokehJS library is missing\");\n",
       "        clearInterval(timer);\n",
       "      }\n",
       "    }, 10, root)\n",
       "  }\n",
       "})(window);"
      ],
      "application/vnd.bokehjs_exec.v0+json": ""
     },
     "metadata": {
      "application/vnd.bokehjs_exec.v0+json": {
       "id": "9671"
      }
     },
     "output_type": "display_data"
    }
   ],
   "source": [
    "from math import pi\n",
    "import pandas as pd\n",
    "\n",
    "from bokeh.io import show, output_file\n",
    "from bokeh.models import LinearColorMapper, BasicTicker, PrintfTickFormatter, ColorBar\n",
    "from bokeh.plotting import figure\n",
    "\n",
    "output_file(\"lda_output_visualisation.html\")\n",
    "\n",
    "colors = ['#084594', '#2171b5', '#4292c6', '#6baed6', '#9ecae1', '#c6dbef', '#deebf7', '#f7fbff']\n",
    "colors.reverse()\n",
    "\n",
    "mapper = LinearColorMapper(palette=colors, low=df.rate.min(), high=df.rate.max())\n",
    "TOOLS = \"hover,save,pan,box_zoom,reset,wheel_zoom\"\n",
    "\n",
    "p = figure(title=\"Topic probability per document\",\n",
    "           x_range=topics, y_range=docs,\n",
    "           x_axis_location=\"above\", plot_width=400, plot_height=1200,\n",
    "                      tools=TOOLS, toolbar_location='below',\n",
    "           tooltips=[('rate', '@rate%')]\n",
    "          )\n",
    "\n",
    "p.grid.grid_line_color = None\n",
    "p.axis.axis_line_color = None\n",
    "p.axis.major_tick_line_color = None\n",
    "p.axis.major_label_text_font_size = \"5pt\"\n",
    "p.axis.major_label_standoff = 0\n",
    "p.xaxis.major_label_orientation = pi / 3\n",
    "\n",
    "p.rect(x=\"topic\", y=\"doc\", width=1, height=1,\n",
    "       source=df,\n",
    "       fill_color={'field': 'rate', 'transform': mapper},\n",
    "       line_color=None)\n",
    "\n",
    "color_bar = ColorBar(color_mapper=mapper, major_label_text_font_size=\"5pt\",\n",
    "                     ticker=BasicTicker(desired_num_ticks=len(colors)),\n",
    "                     formatter=PrintfTickFormatter(format=\"%d%%\"),\n",
    "                     label_standoff=6, border_line_color=None, location=(0, 0))\n",
    "p.add_layout(color_bar, 'right')\n",
    "\n",
    "output_notebook()\n",
    "\n",
    "show(p)"
   ]
  },
  {
   "cell_type": "markdown",
   "metadata": {},
   "source": [
    "Above density plot shows, on some randomly selected documents, probability scores for each topic. It is clear now that some of the documents were almost equally classified in two categories so that the error is highly probable. That cases should be always taken into account."
   ]
  },
  {
   "cell_type": "markdown",
   "metadata": {},
   "source": [
    "## Conclusions"
   ]
  },
  {
   "cell_type": "markdown",
   "metadata": {},
   "source": [
    "Big advantage of using this method among other is that it gives a score for each topic belongingness not just the topic indicator which can be helpful for determining the actual result correctness. It is quite important if we are training our model on unlabelded data.\n",
    "\n",
    "Latent Dirichlet Allocation is pretty effective and really simple to use with `Python` which basically gives the machine learning capabilities to everyone who needs it. You can find all the code used here in our [Github][1] repository.\n",
    "\n",
    "[1]: https://github.com/merixstudio"
   ]
  },
  {
   "cell_type": "markdown",
   "metadata": {},
   "source": [
    "## Bibliography"
   ]
  },
  {
   "cell_type": "markdown",
   "metadata": {},
   "source": [
    "[1] \"Python Machine Learinng\" - Sebastian Raschka, Vahid Mirjalili\n",
    "\n",
    "[2] NLTK docuemntation https://www.nltk.org/\n",
    "\n",
    "[3] Scikit learn documentation https://scikit-learn.org/\n",
    "\n",
    "[4] Wikipedia https://en.wikipedia.org/wiki/Latent_Dirichlet_allocation\n",
    "\n",
    "[5] \"Latent Dirichlet Allocation explained\" https://www.thinkinfi.com/2019/01/lda-algorithm-steps.html"
   ]
  },
  {
   "cell_type": "code",
   "execution_count": null,
   "metadata": {},
   "outputs": [],
   "source": []
  }
 ],
 "metadata": {
  "kernelspec": {
   "display_name": "Python 3",
   "language": "python",
   "name": "python3"
  },
  "language_info": {
   "codemirror_mode": {
    "name": "ipython",
    "version": 3
   },
   "file_extension": ".py",
   "mimetype": "text/x-python",
   "name": "python",
   "nbconvert_exporter": "python",
   "pygments_lexer": "ipython3",
   "version": "3.7.3"
  }
 },
 "nbformat": 4,
 "nbformat_minor": 2
}
