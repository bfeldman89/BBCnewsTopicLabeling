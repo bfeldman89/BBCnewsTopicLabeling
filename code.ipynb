{
 "cells": [
  {
   "cell_type": "markdown",
   "metadata": {},
   "source": [
    "# Imports"
   ]
  },
  {
   "cell_type": "code",
   "execution_count": 114,
   "metadata": {},
   "outputs": [],
   "source": [
    "import glob\n",
    "import nltk\n",
    "import sklearn\n",
    "import pandas\n",
    "import bokeh"
   ]
  },
  {
   "cell_type": "markdown",
   "metadata": {},
   "source": [
    "# Data"
   ]
  },
  {
   "cell_type": "code",
   "execution_count": 4,
   "metadata": {},
   "outputs": [],
   "source": [
    "import glob\n",
    "import os\n",
    "\n",
    "base_dir = \"BBC News Summary/News Articles\"\n",
    "# read news\n",
    "business_file_list = glob.glob(os.path.join(os.getcwd(), base_dir, \"business\", \"*.txt\"))\n",
    "entertainment_file_list = glob.glob(os.path.join(os.getcwd(), base_dir, \"entertainment\", \"*.txt\"))\n",
    "politics_file_list = glob.glob(os.path.join(os.getcwd(), base_dir, \"politics\", \"*.txt\"))\n",
    "sport_file_list = glob.glob(os.path.join(os.getcwd(), base_dir, \"sport\", \"*.txt\"))\n",
    "tech_file_list = glob.glob(os.path.join(os.getcwd(), base_dir, \"tech\", \"*.txt\"))\n",
    "\n",
    "labels = []\n",
    "corpus = []\n",
    "for file_list in [business_file_list, entertainment_file_list, politics_file_list, sport_file_list, tech_file_list]:\n",
    "    for file_path in file_list:\n",
    "        with open(file_path, encoding=\"utf8\", errors='ignore') as f_input:\n",
    "            corpus.append((f_input.read()))\n",
    "            labels.append(file_path.split('/')[-2])"
   ]
  },
  {
   "cell_type": "markdown",
   "metadata": {},
   "source": [
    "# Preprocessing"
   ]
  },
  {
   "cell_type": "markdown",
   "metadata": {},
   "source": [
    "## Tokenisation"
   ]
  },
  {
   "cell_type": "code",
   "execution_count": 5,
   "metadata": {},
   "outputs": [],
   "source": [
    "import nltk\n",
    "import re\n",
    "\n",
    "\n",
    "regex = re.compile('[^a-zA-Z]')\n",
    "\n",
    "def tokenize(text):\n",
    "    tokens = []\n",
    "    for sent in nltk.sent_tokenize(text):\n",
    "        for word in nltk.word_tokenize(sent):\n",
    "            clean_word = regex.sub('', word)\n",
    "            tokens.append(clean_word.lower())\n",
    "    return tokens"
   ]
  },
  {
   "cell_type": "code",
   "execution_count": 6,
   "metadata": {},
   "outputs": [
    {
     "data": {
      "text/plain": [
       "['fiat',\n",
       " 'mulls',\n",
       " 'ferrari',\n",
       " 'market',\n",
       " 'listing',\n",
       " 'ferrari',\n",
       " 'could',\n",
       " 'be',\n",
       " 'listed',\n",
       " 'on']"
      ]
     },
     "execution_count": 6,
     "metadata": {},
     "output_type": "execute_result"
    }
   ],
   "source": [
    "tokenized = tokenize(corpus[500])\n",
    "tokenized[:10]"
   ]
  },
  {
   "cell_type": "markdown",
   "metadata": {},
   "source": [
    "## Stopwords"
   ]
  },
  {
   "cell_type": "code",
   "execution_count": 7,
   "metadata": {},
   "outputs": [],
   "source": [
    "from nltk.corpus import stopwords as sw\n",
    "stopwords = sw.words('english')"
   ]
  },
  {
   "cell_type": "code",
   "execution_count": 8,
   "metadata": {},
   "outputs": [
    {
     "data": {
      "text/plain": [
       "['fiat',\n",
       " 'mulls',\n",
       " 'ferrari',\n",
       " 'market',\n",
       " 'listing',\n",
       " 'ferrari',\n",
       " 'could',\n",
       " 'listed',\n",
       " 'stock',\n",
       " 'market']"
      ]
     },
     "execution_count": 8,
     "metadata": {},
     "output_type": "execute_result"
    }
   ],
   "source": [
    "cleaned = [word for word in tokenized if word not in stopwords and word is not '']\n",
    "cleaned[:10]"
   ]
  },
  {
   "cell_type": "markdown",
   "metadata": {},
   "source": [
    "## Steming"
   ]
  },
  {
   "cell_type": "code",
   "execution_count": 9,
   "metadata": {},
   "outputs": [],
   "source": [
    "from nltk.stem.snowball import SnowballStemmer\n",
    "\n",
    "stemmer = SnowballStemmer(\"english\")\n",
    "\n",
    "def stem(word):\n",
    "    return stemmer.stem(word).strip()"
   ]
  },
  {
   "cell_type": "code",
   "execution_count": 10,
   "metadata": {},
   "outputs": [
    {
     "data": {
      "text/plain": [
       "['fiat',\n",
       " 'mull',\n",
       " 'ferrari',\n",
       " 'market',\n",
       " 'list',\n",
       " 'ferrari',\n",
       " 'could',\n",
       " 'list',\n",
       " 'stock',\n",
       " 'market']"
      ]
     },
     "execution_count": 10,
     "metadata": {},
     "output_type": "execute_result"
    }
   ],
   "source": [
    "stemed = [stem(word) for word in cleaned]\n",
    "stemed[:10]"
   ]
  },
  {
   "cell_type": "markdown",
   "metadata": {},
   "source": [
    "# Plot word distributions"
   ]
  },
  {
   "cell_type": "code",
   "execution_count": 115,
   "metadata": {},
   "outputs": [],
   "source": [
    "def prep(corp):  \n",
    "    # tokenization\n",
    "    tokenized = tokenize(corp)\n",
    "    # stopwords\n",
    "    cleaned = [word for word in tokenized if word not in stopwords and word is not '']\n",
    "    # steming\n",
    "    stemed = [stem(word) for word in cleaned]\n",
    "    return stemed\n",
    "    \n",
    "stemed1 = prep(corpus[200])\n",
    "stemed500 = prep(corpus[500])"
   ]
  },
  {
   "cell_type": "code",
   "execution_count": 116,
   "metadata": {},
   "outputs": [],
   "source": [
    "def h(stem):\n",
    "    data = []\n",
    "    for w in set(stem):\n",
    "        data.append((stem.count(w), w))\n",
    "    data.sort(reverse=True)\n",
    "    return data\n",
    "\n",
    "hist_data1 = h(stemed1)\n",
    "hist_data500 = h(stemed500)\n",
    "\n",
    "def xy(data):   \n",
    "    l = range(len(data))\n",
    "    x = [data[i][1] for i in l]\n",
    "    y = [data[i][0] for i in l]\n",
    "    return x,y\n",
    "\n",
    "x1,y1 = xy(hist_data1)\n",
    "x500,y500 = xy(hist_data500)"
   ]
  },
  {
   "cell_type": "code",
   "execution_count": 117,
   "metadata": {},
   "outputs": [],
   "source": [
    "from bokeh.io import show, output_file\n",
    "from bokeh.plotting import figure\n",
    "\n",
    "output_file(\"skewed_distributions.html\")\n",
    "\n",
    "def plot(x,y, title):\n",
    "    p = figure(x_range=x, plot_width=1200, plot_height=400, title=title,\n",
    "               toolbar_location=None, tools=\"\")\n",
    "\n",
    "    p.vbar(x=x, top=y, width=0.9, line_color=\"white\", fill_color=\"navy\", alpha=0.5)\n",
    "\n",
    "    p.xgrid.grid_line_color = None\n",
    "    p.xaxis.major_label_orientation = 1.2\n",
    "    p.y_range.start = 0\n",
    "    return p"
   ]
  },
  {
   "cell_type": "code",
   "execution_count": 118,
   "metadata": {},
   "outputs": [],
   "source": [
    "from bokeh.layouts import gridplot\n",
    "p1 = plot(x1,y1,\"Document #200 word count\")\n",
    "p2 = plot(x500,y500,\"Document #500 word count\")\n",
    "show(gridplot([p1,p2], ncols=1))"
   ]
  },
  {
   "cell_type": "markdown",
   "metadata": {},
   "source": [
    "# TfidfVectorizer"
   ]
  },
  {
   "cell_type": "code",
   "execution_count": 15,
   "metadata": {},
   "outputs": [],
   "source": [
    "from sklearn.feature_extraction.text import TfidfVectorizer\n",
    "\n",
    "tfidf_vectorizer = TfidfVectorizer(max_df=0.8, max_features=10000,\n",
    "                                 min_df=0.05, stop_words=stopwords,\n",
    "                                 use_idf=True, tokenizer=tokenize,\n",
    "                                  lowercase=True, preprocessor=stem)"
   ]
  },
  {
   "cell_type": "code",
   "execution_count": 26,
   "metadata": {},
   "outputs": [],
   "source": [
    "tfidf_matrix = tfidf_vectorizer.fit_transform(corpus);"
   ]
  },
  {
   "cell_type": "markdown",
   "metadata": {},
   "source": [
    "# LatentDirichletAllocation"
   ]
  },
  {
   "cell_type": "code",
   "execution_count": 17,
   "metadata": {},
   "outputs": [
    {
     "data": {
      "text/plain": [
       "LatentDirichletAllocation(batch_size=128, doc_topic_prior=None,\n",
       "                          evaluate_every=-1, learning_decay=0.7,\n",
       "                          learning_method='batch', learning_offset=10.0,\n",
       "                          max_doc_update_iter=100, max_iter=10,\n",
       "                          mean_change_tol=0.001, n_components=5, n_jobs=None,\n",
       "                          perp_tol=0.1, random_state=42, topic_word_prior=None,\n",
       "                          total_samples=1000000.0, verbose=0)"
      ]
     },
     "execution_count": 17,
     "metadata": {},
     "output_type": "execute_result"
    }
   ],
   "source": [
    "from sklearn.decomposition import LatentDirichletAllocation\n",
    "\n",
    "lda = LatentDirichletAllocation(n_components=5, random_state=42)\n",
    "lda.fit(tfidf_matrix)"
   ]
  },
  {
   "cell_type": "code",
   "execution_count": 18,
   "metadata": {},
   "outputs": [
    {
     "name": "stdout",
     "output_type": "stream",
     "text": [
      "Topic #0:\n",
      "['award', 'awards', 'party', 'brown', 'election', 'show', 'labour', 'best', 'mr', 'film']\n",
      "\n",
      "\n",
      "Topic #1:\n",
      "['sales', 'economy', 'bank', 'growth', 'firm', 'market', 'year', 'company', 'us', 'bn']\n",
      "\n",
      "\n",
      "Topic #2:\n",
      "['first', 'injury', 'players', 'match', 'cup', 'club', 'england', 'nt', 'win', 'game']\n",
      "\n",
      "\n",
      "Topic #3:\n",
      "['court', 'minister', 'secretary', 'scotland', 'people', 'law', 'would', 'government', 'wales', 'mr']\n",
      "\n",
      "\n",
      "Topic #4:\n",
      "['net', 'computer', 'phone', 'digital', 'music', 'software', 'users', 'mobile', 'technology', 'people']\n",
      "\n",
      "\n"
     ]
    }
   ],
   "source": [
    "for i,topic in enumerate(lda.components_):\n",
    "    print(f'Topic #{i}:')\n",
    "    print([tfidf_vectorizer.get_feature_names()[i] for i in topic.argsort()[-10:]])\n",
    "    print('\\n')"
   ]
  },
  {
   "cell_type": "code",
   "execution_count": 19,
   "metadata": {},
   "outputs": [],
   "source": [
    "topic_values = lda.transform(tfidf_matrix)\n",
    "doc_num, topic_num = topic_values.shape"
   ]
  },
  {
   "cell_type": "code",
   "execution_count": 20,
   "metadata": {},
   "outputs": [
    {
     "data": {
      "text/html": [
       "<div>\n",
       "<style scoped>\n",
       "    .dataframe tbody tr th:only-of-type {\n",
       "        vertical-align: middle;\n",
       "    }\n",
       "\n",
       "    .dataframe tbody tr th {\n",
       "        vertical-align: top;\n",
       "    }\n",
       "\n",
       "    .dataframe thead th {\n",
       "        text-align: right;\n",
       "    }\n",
       "</style>\n",
       "<table border=\"1\" class=\"dataframe\">\n",
       "  <thead>\n",
       "    <tr style=\"text-align: right;\">\n",
       "      <th></th>\n",
       "      <th></th>\n",
       "      <th>document</th>\n",
       "    </tr>\n",
       "    <tr>\n",
       "      <th>label</th>\n",
       "      <th>lda</th>\n",
       "      <th></th>\n",
       "    </tr>\n",
       "  </thead>\n",
       "  <tbody>\n",
       "    <tr>\n",
       "      <td rowspan=\"5\" valign=\"top\">business</td>\n",
       "      <td>0</td>\n",
       "      <td>5</td>\n",
       "    </tr>\n",
       "    <tr>\n",
       "      <td>1</td>\n",
       "      <td>480</td>\n",
       "    </tr>\n",
       "    <tr>\n",
       "      <td>2</td>\n",
       "      <td>1</td>\n",
       "    </tr>\n",
       "    <tr>\n",
       "      <td>3</td>\n",
       "      <td>15</td>\n",
       "    </tr>\n",
       "    <tr>\n",
       "      <td>4</td>\n",
       "      <td>9</td>\n",
       "    </tr>\n",
       "    <tr>\n",
       "      <td rowspan=\"5\" valign=\"top\">entertainment</td>\n",
       "      <td>0</td>\n",
       "      <td>350</td>\n",
       "    </tr>\n",
       "    <tr>\n",
       "      <td>1</td>\n",
       "      <td>10</td>\n",
       "    </tr>\n",
       "    <tr>\n",
       "      <td>2</td>\n",
       "      <td>3</td>\n",
       "    </tr>\n",
       "    <tr>\n",
       "      <td>3</td>\n",
       "      <td>11</td>\n",
       "    </tr>\n",
       "    <tr>\n",
       "      <td>4</td>\n",
       "      <td>12</td>\n",
       "    </tr>\n",
       "    <tr>\n",
       "      <td rowspan=\"4\" valign=\"top\">politics</td>\n",
       "      <td>0</td>\n",
       "      <td>150</td>\n",
       "    </tr>\n",
       "    <tr>\n",
       "      <td>1</td>\n",
       "      <td>8</td>\n",
       "    </tr>\n",
       "    <tr>\n",
       "      <td>3</td>\n",
       "      <td>251</td>\n",
       "    </tr>\n",
       "    <tr>\n",
       "      <td>4</td>\n",
       "      <td>8</td>\n",
       "    </tr>\n",
       "    <tr>\n",
       "      <td rowspan=\"5\" valign=\"top\">sport</td>\n",
       "      <td>0</td>\n",
       "      <td>6</td>\n",
       "    </tr>\n",
       "    <tr>\n",
       "      <td>1</td>\n",
       "      <td>4</td>\n",
       "    </tr>\n",
       "    <tr>\n",
       "      <td>2</td>\n",
       "      <td>472</td>\n",
       "    </tr>\n",
       "    <tr>\n",
       "      <td>3</td>\n",
       "      <td>28</td>\n",
       "    </tr>\n",
       "    <tr>\n",
       "      <td>4</td>\n",
       "      <td>1</td>\n",
       "    </tr>\n",
       "    <tr>\n",
       "      <td rowspan=\"5\" valign=\"top\">tech</td>\n",
       "      <td>0</td>\n",
       "      <td>9</td>\n",
       "    </tr>\n",
       "    <tr>\n",
       "      <td>1</td>\n",
       "      <td>12</td>\n",
       "    </tr>\n",
       "    <tr>\n",
       "      <td>2</td>\n",
       "      <td>11</td>\n",
       "    </tr>\n",
       "    <tr>\n",
       "      <td>3</td>\n",
       "      <td>11</td>\n",
       "    </tr>\n",
       "    <tr>\n",
       "      <td>4</td>\n",
       "      <td>358</td>\n",
       "    </tr>\n",
       "  </tbody>\n",
       "</table>\n",
       "</div>"
      ],
      "text/plain": [
       "                   document\n",
       "label         lda          \n",
       "business      0           5\n",
       "              1         480\n",
       "              2           1\n",
       "              3          15\n",
       "              4           9\n",
       "entertainment 0         350\n",
       "              1          10\n",
       "              2           3\n",
       "              3          11\n",
       "              4          12\n",
       "politics      0         150\n",
       "              1           8\n",
       "              3         251\n",
       "              4           8\n",
       "sport         0           6\n",
       "              1           4\n",
       "              2         472\n",
       "              3          28\n",
       "              4           1\n",
       "tech          0           9\n",
       "              1          12\n",
       "              2          11\n",
       "              3          11\n",
       "              4         358"
      ]
     },
     "execution_count": 20,
     "metadata": {},
     "output_type": "execute_result"
    }
   ],
   "source": [
    "import pandas as pd\n",
    "df = pd.DataFrame({'document': corpus, 'label': labels, 'lda': topic_values.argmax(axis=1)})\n",
    "df.groupby(['label', 'lda']).count()"
   ]
  },
  {
   "cell_type": "markdown",
   "metadata": {},
   "source": [
    "# Visualisation"
   ]
  },
  {
   "cell_type": "code",
   "execution_count": 67,
   "metadata": {},
   "outputs": [],
   "source": [
    "prob_matrix = lda.transform(tfidf_matrix)"
   ]
  },
  {
   "cell_type": "code",
   "execution_count": 94,
   "metadata": {},
   "outputs": [
    {
     "data": {
      "text/html": [
       "<div>\n",
       "<style scoped>\n",
       "    .dataframe tbody tr th:only-of-type {\n",
       "        vertical-align: middle;\n",
       "    }\n",
       "\n",
       "    .dataframe tbody tr th {\n",
       "        vertical-align: top;\n",
       "    }\n",
       "\n",
       "    .dataframe thead th {\n",
       "        text-align: right;\n",
       "    }\n",
       "</style>\n",
       "<table border=\"1\" class=\"dataframe\">\n",
       "  <thead>\n",
       "    <tr style=\"text-align: right;\">\n",
       "      <th></th>\n",
       "      <th>0</th>\n",
       "      <th>1</th>\n",
       "      <th>2</th>\n",
       "      <th>3</th>\n",
       "      <th>4</th>\n",
       "    </tr>\n",
       "  </thead>\n",
       "  <tbody>\n",
       "    <tr>\n",
       "      <td>0</td>\n",
       "      <td>0.025118</td>\n",
       "      <td>0.899510</td>\n",
       "      <td>0.025182</td>\n",
       "      <td>0.025091</td>\n",
       "      <td>0.025099</td>\n",
       "    </tr>\n",
       "    <tr>\n",
       "      <td>1</td>\n",
       "      <td>0.380475</td>\n",
       "      <td>0.547495</td>\n",
       "      <td>0.023812</td>\n",
       "      <td>0.024134</td>\n",
       "      <td>0.024084</td>\n",
       "    </tr>\n",
       "    <tr>\n",
       "      <td>2</td>\n",
       "      <td>0.025669</td>\n",
       "      <td>0.896890</td>\n",
       "      <td>0.026075</td>\n",
       "      <td>0.025574</td>\n",
       "      <td>0.025791</td>\n",
       "    </tr>\n",
       "    <tr>\n",
       "      <td>3</td>\n",
       "      <td>0.034627</td>\n",
       "      <td>0.834639</td>\n",
       "      <td>0.034424</td>\n",
       "      <td>0.034590</td>\n",
       "      <td>0.061720</td>\n",
       "    </tr>\n",
       "    <tr>\n",
       "      <td>4</td>\n",
       "      <td>0.044206</td>\n",
       "      <td>0.823558</td>\n",
       "      <td>0.043935</td>\n",
       "      <td>0.043844</td>\n",
       "      <td>0.044456</td>\n",
       "    </tr>\n",
       "    <tr>\n",
       "      <td>...</td>\n",
       "      <td>...</td>\n",
       "      <td>...</td>\n",
       "      <td>...</td>\n",
       "      <td>...</td>\n",
       "      <td>...</td>\n",
       "    </tr>\n",
       "    <tr>\n",
       "      <td>2220</td>\n",
       "      <td>0.030175</td>\n",
       "      <td>0.033565</td>\n",
       "      <td>0.044404</td>\n",
       "      <td>0.030370</td>\n",
       "      <td>0.861486</td>\n",
       "    </tr>\n",
       "    <tr>\n",
       "      <td>2221</td>\n",
       "      <td>0.035001</td>\n",
       "      <td>0.035894</td>\n",
       "      <td>0.392093</td>\n",
       "      <td>0.034688</td>\n",
       "      <td>0.502325</td>\n",
       "    </tr>\n",
       "    <tr>\n",
       "      <td>2222</td>\n",
       "      <td>0.033886</td>\n",
       "      <td>0.033625</td>\n",
       "      <td>0.033952</td>\n",
       "      <td>0.033222</td>\n",
       "      <td>0.865315</td>\n",
       "    </tr>\n",
       "    <tr>\n",
       "      <td>2223</td>\n",
       "      <td>0.036446</td>\n",
       "      <td>0.036475</td>\n",
       "      <td>0.036495</td>\n",
       "      <td>0.036324</td>\n",
       "      <td>0.854260</td>\n",
       "    </tr>\n",
       "    <tr>\n",
       "      <td>2224</td>\n",
       "      <td>0.039535</td>\n",
       "      <td>0.039606</td>\n",
       "      <td>0.039590</td>\n",
       "      <td>0.039497</td>\n",
       "      <td>0.841772</td>\n",
       "    </tr>\n",
       "  </tbody>\n",
       "</table>\n",
       "<p>2225 rows × 5 columns</p>\n",
       "</div>"
      ],
      "text/plain": [
       "             0         1         2         3         4\n",
       "0     0.025118  0.899510  0.025182  0.025091  0.025099\n",
       "1     0.380475  0.547495  0.023812  0.024134  0.024084\n",
       "2     0.025669  0.896890  0.026075  0.025574  0.025791\n",
       "3     0.034627  0.834639  0.034424  0.034590  0.061720\n",
       "4     0.044206  0.823558  0.043935  0.043844  0.044456\n",
       "...        ...       ...       ...       ...       ...\n",
       "2220  0.030175  0.033565  0.044404  0.030370  0.861486\n",
       "2221  0.035001  0.035894  0.392093  0.034688  0.502325\n",
       "2222  0.033886  0.033625  0.033952  0.033222  0.865315\n",
       "2223  0.036446  0.036475  0.036495  0.036324  0.854260\n",
       "2224  0.039535  0.039606  0.039590  0.039497  0.841772\n",
       "\n",
       "[2225 rows x 5 columns]"
      ]
     },
     "execution_count": 94,
     "metadata": {},
     "output_type": "execute_result"
    }
   ],
   "source": [
    "import pandas as pd\n",
    "\n",
    "from bokeh.io import show\n",
    "from bokeh.models import LinearColorMapper, BasicTicker, PrintfTickFormatter, ColorBar\n",
    "from bokeh.plotting import figure\n",
    "from bokeh.sampledata.unemployment1948 import data\n",
    "\n",
    "prob_matrix_df = pd.DataFrame(data=prob_matrix[0:,0:], \n",
    "              index=list(range(len(prob_matrix))),\n",
    "              columns=list(range(topic_num)))\n",
    "prob_matrix_df"
   ]
  },
  {
   "cell_type": "code",
   "execution_count": 70,
   "metadata": {},
   "outputs": [],
   "source": [
    "prob_matrix_df['doc'] = list(range(doc_num))\n",
    "prob_matrix_df = prob_matrix_df.set_index('doc')\n",
    "prob_matrix_df.columns.name = 'topic'\n",
    "df = pd.DataFrame(prob_matrix_df.stack(), columns=['rate']).reset_index()"
   ]
  },
  {
   "cell_type": "code",
   "execution_count": 24,
   "metadata": {},
   "outputs": [],
   "source": [
    "import random\n",
    "rand = random.sample(range(1, 2555), 100)\n",
    "df_rand = df.loc[df['doc'].isin(rand)]\n",
    "\n",
    "df_rand.to_pickle(\"./df_rand.pkl\")\n",
    "df = pd.read_pickle(\"./df_rand.pkl\")\n",
    "\n",
    "df['doc'] = df['doc'].astype(str)\n",
    "df['topic'] = df['topic'].astype(str)\n",
    "df['rate'] = df['rate']*100\n",
    "\n",
    "docs = list(set(df_rand['doc']))\n",
    "docs.sort()\n",
    "docs = [str(i) for i in docs]\n",
    "docs;\n",
    "topics = ['0','1','2','3','4']"
   ]
  },
  {
   "cell_type": "code",
   "execution_count": 25,
   "metadata": {},
   "outputs": [],
   "source": [
    "import pandas as pd\n",
    "\n",
    "from bokeh.io import show, output_file\n",
    "from bokeh.models import LinearColorMapper, BasicTicker, PrintfTickFormatter, ColorBar\n",
    "from bokeh.plotting import figure\n",
    "\n",
    "output_file(\"lda_output_visualisation.html\")\n",
    "\n",
    "colors = ['#084594', '#2171b5', '#4292c6', '#6baed6', '#9ecae1', '#c6dbef', '#deebf7', '#f7fbff']\n",
    "\n",
    "mapper = LinearColorMapper(palette=colors, low=df.rate.min(), high=df.rate.max())\n",
    "TOOLS = \"hover,save,pan,box_zoom,reset,wheel_zoom\"\n",
    "\n",
    "p = figure(title=\"Topic probability per document\",\n",
    "           x_range=topics, y_range=docs,\n",
    "           x_axis_location=\"above\", plot_width=300, plot_height=800,\n",
    "                      tools=TOOLS, toolbar_location='below',\n",
    "           tooltips=[('rate', '@rate%')]\n",
    "          )\n",
    "\n",
    "p.grid.grid_line_color = None\n",
    "p.axis.axis_line_color = None\n",
    "p.axis.major_tick_line_color = None\n",
    "p.axis.major_label_text_font_size = \"5pt\"\n",
    "p.axis.major_label_standoff = 0\n",
    "p.xaxis.major_label_orientation = pi / 3\n",
    "\n",
    "p.rect(x=\"topic\", y=\"doc\", width=1, height=1,\n",
    "       source=df,\n",
    "       fill_color={'field': 'rate', 'transform': mapper},\n",
    "       line_color=None)\n",
    "\n",
    "color_bar = ColorBar(color_mapper=mapper, major_label_text_font_size=\"5pt\",\n",
    "                     ticker=BasicTicker(desired_num_ticks=len(colors)),\n",
    "                     formatter=PrintfTickFormatter(format=\"%d%%\"),\n",
    "                     label_standoff=6, border_line_color=None, location=(0, 0))\n",
    "p.add_layout(color_bar, 'right')\n",
    "\n",
    "show(p)"
   ]
  },
  {
   "cell_type": "markdown",
   "metadata": {},
   "source": [
    "### Distribution plots"
   ]
  },
  {
   "cell_type": "code",
   "execution_count": 100,
   "metadata": {},
   "outputs": [],
   "source": [
    "import random\n",
    "rand = random.sample(range(1, 105), 5)\n",
    "x = [x1[i] for i in rand]\n",
    "y = [y1[i] for i in rand]\n",
    "from bokeh.io import show, output_file\n",
    "from bokeh.plotting import figure\n",
    "\n",
    "output_file(\"skewed_distributions.html\")\n",
    "\n",
    "def plot(x,y, title, xlabel, ylabel):\n",
    "    p = figure(x_range=x, plot_width=200, plot_height=200, title=title,\n",
    "               toolbar_location=None, tools=\"\")\n",
    "\n",
    "    p.vbar(x=x, top=y, width=0.9, line_color=\"white\", fill_color=\"navy\", alpha=0.5)\n",
    "\n",
    "    p.xgrid.grid_line_color = None\n",
    "    p.xaxis.major_label_orientation = 1.2\n",
    "    p.y_range.start = 0\n",
    "    p.xaxis.axis_label = xlabel\n",
    "    p.yaxis.axis_label = ylabel\n",
    "    p.yaxis.major_label_text_font_size = '0pt'\n",
    "    return p"
   ]
  },
  {
   "cell_type": "code",
   "execution_count": 97,
   "metadata": {},
   "outputs": [],
   "source": [
    "df_sample = prob_matrix_df.sample(1)"
   ]
  },
  {
   "cell_type": "code",
   "execution_count": 112,
   "metadata": {},
   "outputs": [],
   "source": [
    "from bokeh.layouts import gridplot\n",
    "\n",
    "output_file(\"sample_distrib.html\")\n",
    "\n",
    "p1 = plot(x,y,\"Topic k for documents\", \"words\", \"𝜙_𝑘\")\n",
    "p2 = plot(['0','1','2','3','4'],df_sample.iloc[0].to_list(),\"Document d for topics\", \"topics\", \"θ_d\")\n",
    "show(gridplot([p1,p2], ncols=2))"
   ]
  },
  {
   "cell_type": "code",
   "execution_count": null,
   "metadata": {},
   "outputs": [],
   "source": []
  }
 ],
 "metadata": {
  "kernelspec": {
   "display_name": "Python 3",
   "language": "python",
   "name": "python3"
  },
  "language_info": {
   "codemirror_mode": {
    "name": "ipython",
    "version": 3
   },
   "file_extension": ".py",
   "mimetype": "text/x-python",
   "name": "python",
   "nbconvert_exporter": "python",
   "pygments_lexer": "ipython3",
   "version": "3.7.3"
  }
 },
 "nbformat": 4,
 "nbformat_minor": 2
}
